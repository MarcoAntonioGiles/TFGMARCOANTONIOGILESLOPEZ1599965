{
 "cells": [
  {
   "cell_type": "markdown",
   "metadata": {},
   "source": [
    "# MÉS ENLLÀ DELS PODERS: ANÀLISI ESTADÍSTICA DE L'UNIVERS DELS SUPERHEROIS\n"
   ]
  },
  {
   "cell_type": "markdown",
   "metadata": {},
   "source": [
    "AUTOR: MARCO ANTONIO GILES LÓPEZ"
   ]
  },
  {
   "cell_type": "markdown",
   "metadata": {},
   "source": [
    "TUTOR: JOAN GASULL JOLÍS"
   ]
  },
  {
   "cell_type": "markdown",
   "metadata": {},
   "source": [
    "14 de juny del 2024 "
   ]
  },
  {
   "cell_type": "markdown",
   "metadata": {},
   "source": [
    " "
   ]
  },
  {
   "cell_type": "markdown",
   "metadata": {},
   "source": [
    "#### IMPORTACIÓ DE TOTES LES LLIBRERIES NECESSÀRIES PER L'ESTUDI"
   ]
  },
  {
   "cell_type": "code",
   "execution_count": 1,
   "metadata": {},
   "outputs": [],
   "source": [
    "import pandas as pd\n",
    "import numpy as np\n",
    "import matplotlib.pyplot as plt\n",
    "import seaborn as sns\n",
    "from sklearn.model_selection import train_test_split, GridSearchCV\n",
    "from sklearn.ensemble import RandomForestClassifier\n",
    "from sklearn.metrics import accuracy_score, classification_report, confusion_matrix\n",
    "from sklearn.ensemble import RandomForestRegressor\n",
    "from sklearn.metrics import mean_squared_error, r2_score\n",
    "import matplotlib.patches as mpatches\n",
    "from sklearn.linear_model import LogisticRegression\n",
    "from imblearn.over_sampling import SMOTE\n",
    "from sklearn.pipeline import make_pipeline\n",
    "from sklearn.preprocessing import StandardScaler\n",
    "from sklearn.impute import KNNImputer\n",
    "from sklearn.preprocessing import LabelEncoder\n"
   ]
  },
  {
   "cell_type": "markdown",
   "metadata": {},
   "source": [
    "#### IMPORTACIÓ DE DADES I ELIMINACIÓ DE DUPLICATS"
   ]
  },
  {
   "cell_type": "code",
   "execution_count": 2,
   "metadata": {},
   "outputs": [
    {
     "name": "stderr",
     "output_type": "stream",
     "text": [
      "C:\\Users\\manonio\\anaconda3\\lib\\site-packages\\IPython\\core\\interactiveshell.py:3146: DtypeWarning: Columns (4,6,8,16,17,19,23,24,25,27,30,31,32,33,35) have mixed types.Specify dtype option on import or set low_memory=False.\n",
      "  has_raised = await self.run_ast_nodes(code_ast.body, cell_name,\n"
     ]
    },
    {
     "name": "stdout",
     "output_type": "stream",
     "text": [
      "28118\n",
      "39\n",
      "24669\n",
      "39\n"
     ]
    }
   ],
   "source": [
    "\n",
    "datos = pd.read_csv(\"C:/Users/manonio/Desktop/ESTADISTICA APLICADA/TFG/superheroes2.csv\")\n",
    "\n",
    "\n",
    "datos = datos.applymap(lambda x: np.nan if x is None else x)\n",
    "\n",
    "print(datos.shape[0])\n",
    "print(datos.shape[1])\n",
    "\n",
    "datos = datos.drop_duplicates()\n",
    "\n",
    "\n",
    "print(datos.shape[0])\n",
    "print(datos.shape[1])\n"
   ]
  },
  {
   "cell_type": "code",
   "execution_count": 3,
   "metadata": {},
   "outputs": [
    {
     "data": {
      "text/plain": [
       "3449"
      ]
     },
     "execution_count": 3,
     "metadata": {},
     "output_type": "execute_result"
    }
   ],
   "source": [
    "28118-24669\n"
   ]
  },
  {
   "cell_type": "code",
   "execution_count": 4,
   "metadata": {},
   "outputs": [
    {
     "data": {
      "text/html": [
       "<div>\n",
       "<style scoped>\n",
       "    .dataframe tbody tr th:only-of-type {\n",
       "        vertical-align: middle;\n",
       "    }\n",
       "\n",
       "    .dataframe tbody tr th {\n",
       "        vertical-align: top;\n",
       "    }\n",
       "\n",
       "    .dataframe thead th {\n",
       "        text-align: right;\n",
       "    }\n",
       "</style>\n",
       "<table border=\"1\" class=\"dataframe\">\n",
       "  <thead>\n",
       "    <tr style=\"text-align: right;\">\n",
       "      <th></th>\n",
       "      <th>Alignment</th>\n",
       "      <th>Alter_Egos</th>\n",
       "      <th>Base</th>\n",
       "      <th>Character</th>\n",
       "      <th>Class_value</th>\n",
       "      <th>Collections</th>\n",
       "      <th>Combat</th>\n",
       "      <th>Creator</th>\n",
       "      <th>Durability</th>\n",
       "      <th>Equipment</th>\n",
       "      <th>...</th>\n",
       "      <th>Species</th>\n",
       "      <th>Speed</th>\n",
       "      <th>Speed_velocity</th>\n",
       "      <th>Strength</th>\n",
       "      <th>Strength_force</th>\n",
       "      <th>Super_powers</th>\n",
       "      <th>Tier</th>\n",
       "      <th>Universe</th>\n",
       "      <th>Weight</th>\n",
       "      <th>History</th>\n",
       "    </tr>\n",
       "  </thead>\n",
       "  <tbody>\n",
       "    <tr>\n",
       "      <th>0</th>\n",
       "      <td>Good</td>\n",
       "      <td>NaN</td>\n",
       "      <td>NaN</td>\n",
       "      <td>Alucard</td>\n",
       "      <td>5471</td>\n",
       "      <td>NaN</td>\n",
       "      <td>80</td>\n",
       "      <td>Konami</td>\n",
       "      <td>35</td>\n",
       "      <td>NaN</td>\n",
       "      <td>...</td>\n",
       "      <td>Human</td>\n",
       "      <td>30</td>\n",
       "      <td>2000</td>\n",
       "      <td>30</td>\n",
       "      <td>100000</td>\n",
       "      <td>Accelerated Healing,Agility,Berserk Mode,Blood...</td>\n",
       "      <td>2</td>\n",
       "      <td>C17S</td>\n",
       "      <td>82 kg • 180.78 lbs</td>\n",
       "      <td>NaN</td>\n",
       "    </tr>\n",
       "    <tr>\n",
       "      <th>1</th>\n",
       "      <td>Good</td>\n",
       "      <td>NaN</td>\n",
       "      <td>NaN</td>\n",
       "      <td>Alucard</td>\n",
       "      <td>5876</td>\n",
       "      <td>NaN</td>\n",
       "      <td>80</td>\n",
       "      <td>Konami</td>\n",
       "      <td>35</td>\n",
       "      <td>NaN</td>\n",
       "      <td>...</td>\n",
       "      <td>Human</td>\n",
       "      <td>30</td>\n",
       "      <td>2000</td>\n",
       "      <td>30</td>\n",
       "      <td>100000</td>\n",
       "      <td>Accelerated Healing,Agility,Berserk Mode,Blood...</td>\n",
       "      <td>2</td>\n",
       "      <td>C17S</td>\n",
       "      <td>82 kg • 180.78 lbs</td>\n",
       "      <td>NaN</td>\n",
       "    </tr>\n",
       "    <tr>\n",
       "      <th>2</th>\n",
       "      <td>Good</td>\n",
       "      <td>NaN</td>\n",
       "      <td>NaN</td>\n",
       "      <td>Alucard</td>\n",
       "      <td>2.58601e+06</td>\n",
       "      <td>NaN</td>\n",
       "      <td>90</td>\n",
       "      <td>Konami</td>\n",
       "      <td>100</td>\n",
       "      <td>NaN</td>\n",
       "      <td>...</td>\n",
       "      <td>Vampire</td>\n",
       "      <td>100</td>\n",
       "      <td>1000000000</td>\n",
       "      <td>100</td>\n",
       "      <td>1000000000</td>\n",
       "      <td>Accelerated Healing,Acrobatics,Agility,Blood M...</td>\n",
       "      <td>7</td>\n",
       "      <td>Castlevania</td>\n",
       "      <td>-</td>\n",
       "      <td>NaN</td>\n",
       "    </tr>\n",
       "    <tr>\n",
       "      <th>3</th>\n",
       "      <td>Good</td>\n",
       "      <td>NaN</td>\n",
       "      <td>NaN</td>\n",
       "      <td>Alucard</td>\n",
       "      <td>3.3801e+06</td>\n",
       "      <td>NaN</td>\n",
       "      <td>90</td>\n",
       "      <td>Konami</td>\n",
       "      <td>100</td>\n",
       "      <td>NaN</td>\n",
       "      <td>...</td>\n",
       "      <td>Vampire</td>\n",
       "      <td>100</td>\n",
       "      <td>1000000000</td>\n",
       "      <td>100</td>\n",
       "      <td>1000000000</td>\n",
       "      <td>Accelerated Healing,Acrobatics,Agility,Blood M...</td>\n",
       "      <td>7</td>\n",
       "      <td>Castlevania</td>\n",
       "      <td>-</td>\n",
       "      <td>NaN</td>\n",
       "    </tr>\n",
       "    <tr>\n",
       "      <th>4</th>\n",
       "      <td>Good</td>\n",
       "      <td>NaN</td>\n",
       "      <td>NaN</td>\n",
       "      <td>Alucard</td>\n",
       "      <td>1170</td>\n",
       "      <td>NaN</td>\n",
       "      <td>100</td>\n",
       "      <td>NaN</td>\n",
       "      <td>45</td>\n",
       "      <td>NaN</td>\n",
       "      <td>...</td>\n",
       "      <td>NaN</td>\n",
       "      <td>50</td>\n",
       "      <td>10000</td>\n",
       "      <td>50</td>\n",
       "      <td>400000</td>\n",
       "      <td>Accelerated Healing,Acrobatics,Agility,Berserk...</td>\n",
       "      <td>2</td>\n",
       "      <td>ML</td>\n",
       "      <td>-</td>\n",
       "      <td>NaN</td>\n",
       "    </tr>\n",
       "    <tr>\n",
       "      <th>5</th>\n",
       "      <td>Good</td>\n",
       "      <td>NaN</td>\n",
       "      <td>NaN</td>\n",
       "      <td>Alucard</td>\n",
       "      <td>1362</td>\n",
       "      <td>NaN</td>\n",
       "      <td>100</td>\n",
       "      <td>NaN</td>\n",
       "      <td>45</td>\n",
       "      <td>NaN</td>\n",
       "      <td>...</td>\n",
       "      <td>NaN</td>\n",
       "      <td>50</td>\n",
       "      <td>10000</td>\n",
       "      <td>50</td>\n",
       "      <td>400000</td>\n",
       "      <td>Accelerated Healing,Acrobatics,Agility,Berserk...</td>\n",
       "      <td>2</td>\n",
       "      <td>ML</td>\n",
       "      <td>-</td>\n",
       "      <td>NaN</td>\n",
       "    </tr>\n",
       "    <tr>\n",
       "      <th>6</th>\n",
       "      <td>Neutral</td>\n",
       "      <td>NaN</td>\n",
       "      <td>NaN</td>\n",
       "      <td>Bayonetta</td>\n",
       "      <td>100627</td>\n",
       "      <td>Anti-heroes,Gamekings,Roleplaying Collection,V...</td>\n",
       "      <td>90</td>\n",
       "      <td>Sega</td>\n",
       "      <td>75</td>\n",
       "      <td>Umbran Armor</td>\n",
       "      <td>...</td>\n",
       "      <td>Human</td>\n",
       "      <td>50</td>\n",
       "      <td>2997925</td>\n",
       "      <td>55</td>\n",
       "      <td>1000000</td>\n",
       "      <td>Agility,Chain Manipulation,Durability,Energy A...</td>\n",
       "      <td>4</td>\n",
       "      <td>Bayonetta</td>\n",
       "      <td>90.7 kg • 199.96 lbs</td>\n",
       "      <td>NaN</td>\n",
       "    </tr>\n",
       "    <tr>\n",
       "      <th>7</th>\n",
       "      <td>Neutral</td>\n",
       "      <td>Bayonetta,Bayonetta,Bayonetta,Bayonetta,Bayonetta</td>\n",
       "      <td>NaN</td>\n",
       "      <td>Bayonetta</td>\n",
       "      <td>171876</td>\n",
       "      <td>Anti-heroes,Characters With Yellow Rating,Deat...</td>\n",
       "      <td>90</td>\n",
       "      <td>Sega</td>\n",
       "      <td>75</td>\n",
       "      <td>Umbran Armor,Eyes Of The World</td>\n",
       "      <td>...</td>\n",
       "      <td>Human</td>\n",
       "      <td>50</td>\n",
       "      <td>2997925</td>\n",
       "      <td>55</td>\n",
       "      <td>1000000</td>\n",
       "      <td>Agility,Chain Manipulation,Durability,Energy A...</td>\n",
       "      <td>4</td>\n",
       "      <td>Bayonetta</td>\n",
       "      <td>90.7 kg • 199.96 lbs</td>\n",
       "      <td>NaN</td>\n",
       "    </tr>\n",
       "    <tr>\n",
       "      <th>8</th>\n",
       "      <td>Good</td>\n",
       "      <td>NaN</td>\n",
       "      <td>NaN</td>\n",
       "      <td>Adam</td>\n",
       "      <td>40</td>\n",
       "      <td>NaN</td>\n",
       "      <td>40</td>\n",
       "      <td>NaN</td>\n",
       "      <td>15</td>\n",
       "      <td>NaN</td>\n",
       "      <td>...</td>\n",
       "      <td>Human</td>\n",
       "      <td>10</td>\n",
       "      <td>18</td>\n",
       "      <td>25</td>\n",
       "      <td>8000</td>\n",
       "      <td>Acrobatics,Agility,Durability,Jump,Stamina,Sup...</td>\n",
       "      <td>1</td>\n",
       "      <td>The Hollow</td>\n",
       "      <td>-</td>\n",
       "      <td>NaN</td>\n",
       "    </tr>\n",
       "    <tr>\n",
       "      <th>9</th>\n",
       "      <td>Good</td>\n",
       "      <td>NaN</td>\n",
       "      <td>NaN</td>\n",
       "      <td>Adam</td>\n",
       "      <td>44</td>\n",
       "      <td>NaN</td>\n",
       "      <td>40</td>\n",
       "      <td>NaN</td>\n",
       "      <td>15</td>\n",
       "      <td>NaN</td>\n",
       "      <td>...</td>\n",
       "      <td>Human</td>\n",
       "      <td>10</td>\n",
       "      <td>18</td>\n",
       "      <td>25</td>\n",
       "      <td>8000</td>\n",
       "      <td>Acrobatics,Agility,Durability,Jump,Stamina,Sup...</td>\n",
       "      <td>1</td>\n",
       "      <td>The Hollow</td>\n",
       "      <td>-</td>\n",
       "      <td>NaN</td>\n",
       "    </tr>\n",
       "    <tr>\n",
       "      <th>10</th>\n",
       "      <td>Bad</td>\n",
       "      <td>NaN</td>\n",
       "      <td>NaN</td>\n",
       "      <td>Alessi</td>\n",
       "      <td>39</td>\n",
       "      <td>NaN</td>\n",
       "      <td>11</td>\n",
       "      <td>NaN</td>\n",
       "      <td>5</td>\n",
       "      <td>NaN</td>\n",
       "      <td>...</td>\n",
       "      <td>Human</td>\n",
       "      <td>1</td>\n",
       "      <td>2</td>\n",
       "      <td>1</td>\n",
       "      <td>83</td>\n",
       "      <td>Age Manipulation,Animated Shadow,Power Nullifi...</td>\n",
       "      <td>1</td>\n",
       "      <td>JJBA</td>\n",
       "      <td>-</td>\n",
       "      <td>NaN</td>\n",
       "    </tr>\n",
       "    <tr>\n",
       "      <th>11</th>\n",
       "      <td>Bad</td>\n",
       "      <td>NaN</td>\n",
       "      <td>NaN</td>\n",
       "      <td>Alessi</td>\n",
       "      <td>33</td>\n",
       "      <td>NaN</td>\n",
       "      <td>11</td>\n",
       "      <td>NaN</td>\n",
       "      <td>5</td>\n",
       "      <td>NaN</td>\n",
       "      <td>...</td>\n",
       "      <td>Human</td>\n",
       "      <td>1</td>\n",
       "      <td>2</td>\n",
       "      <td>1</td>\n",
       "      <td>83</td>\n",
       "      <td>Age Manipulation,Animated Shadow,Power Nullifi...</td>\n",
       "      <td>1</td>\n",
       "      <td>JJBA</td>\n",
       "      <td>-</td>\n",
       "      <td>NaN</td>\n",
       "    </tr>\n",
       "    <tr>\n",
       "      <th>13</th>\n",
       "      <td>Bad</td>\n",
       "      <td>NaN</td>\n",
       "      <td>NaN</td>\n",
       "      <td>Bad Ben</td>\n",
       "      <td>5329</td>\n",
       "      <td>Ben 10 Franchise</td>\n",
       "      <td>60</td>\n",
       "      <td>Cartoon Network</td>\n",
       "      <td>60</td>\n",
       "      <td>Omnitrix</td>\n",
       "      <td>...</td>\n",
       "      <td>NaN</td>\n",
       "      <td>80</td>\n",
       "      <td>290000000</td>\n",
       "      <td>50</td>\n",
       "      <td>400000</td>\n",
       "      <td>Black Hole Manipulation,Durability,Intangibili...</td>\n",
       "      <td>4</td>\n",
       "      <td>NaN</td>\n",
       "      <td>-</td>\n",
       "      <td>Bad Ben first appeared in  , where he was amon...</td>\n",
       "    </tr>\n",
       "    <tr>\n",
       "      <th>14</th>\n",
       "      <td>Bad</td>\n",
       "      <td>NaN</td>\n",
       "      <td>NaN</td>\n",
       "      <td>Bad Ben</td>\n",
       "      <td>6022</td>\n",
       "      <td>Ben 10 Franchise</td>\n",
       "      <td>60</td>\n",
       "      <td>Cartoon Network</td>\n",
       "      <td>60</td>\n",
       "      <td>Omnitrix</td>\n",
       "      <td>...</td>\n",
       "      <td>NaN</td>\n",
       "      <td>80</td>\n",
       "      <td>290000000</td>\n",
       "      <td>50</td>\n",
       "      <td>400000</td>\n",
       "      <td>Black Hole Manipulation,Durability,Intangibili...</td>\n",
       "      <td>4</td>\n",
       "      <td>NaN</td>\n",
       "      <td>-</td>\n",
       "      <td>Bad Ben first appeared in  , where he was amon...</td>\n",
       "    </tr>\n",
       "    <tr>\n",
       "      <th>16</th>\n",
       "      <td>Bad</td>\n",
       "      <td>NaN</td>\n",
       "      <td>NaN</td>\n",
       "      <td>Aldrich Killian</td>\n",
       "      <td>133</td>\n",
       "      <td>NaN</td>\n",
       "      <td>60</td>\n",
       "      <td>Marvel Comics</td>\n",
       "      <td>25</td>\n",
       "      <td>NaN</td>\n",
       "      <td>...</td>\n",
       "      <td>Metahuman</td>\n",
       "      <td>6</td>\n",
       "      <td>10</td>\n",
       "      <td>5</td>\n",
       "      <td>200</td>\n",
       "      <td>Accelerated Healing,Cold Resistance,Energy Bea...</td>\n",
       "      <td>1</td>\n",
       "      <td>Earth-13122</td>\n",
       "      <td>-</td>\n",
       "      <td>NaN</td>\n",
       "    </tr>\n",
       "    <tr>\n",
       "      <th>17</th>\n",
       "      <td>Bad</td>\n",
       "      <td>NaN</td>\n",
       "      <td>NaN</td>\n",
       "      <td>Aldrich Killian</td>\n",
       "      <td>144</td>\n",
       "      <td>NaN</td>\n",
       "      <td>60</td>\n",
       "      <td>Marvel Comics</td>\n",
       "      <td>25</td>\n",
       "      <td>NaN</td>\n",
       "      <td>...</td>\n",
       "      <td>Metahuman</td>\n",
       "      <td>6</td>\n",
       "      <td>10</td>\n",
       "      <td>5</td>\n",
       "      <td>200</td>\n",
       "      <td>Accelerated Healing,Cold Resistance,Energy Bea...</td>\n",
       "      <td>1</td>\n",
       "      <td>Earth-13122</td>\n",
       "      <td>-</td>\n",
       "      <td>NaN</td>\n",
       "    </tr>\n",
       "    <tr>\n",
       "      <th>19</th>\n",
       "      <td>Good</td>\n",
       "      <td>Dual Hydranoid</td>\n",
       "      <td>NaN</td>\n",
       "      <td>Alpha-Hydranoid</td>\n",
       "      <td>551094</td>\n",
       "      <td>NaN</td>\n",
       "      <td>60</td>\n",
       "      <td>Sega</td>\n",
       "      <td>100</td>\n",
       "      <td>NaN</td>\n",
       "      <td>...</td>\n",
       "      <td>Alien</td>\n",
       "      <td>100</td>\n",
       "      <td>1000000000</td>\n",
       "      <td>100</td>\n",
       "      <td>1000000000</td>\n",
       "      <td>Agility,Berserk Mode,Bloodlust,Cold Resistance...</td>\n",
       "      <td>7</td>\n",
       "      <td>Bakugan</td>\n",
       "      <td>199.58 ton • 440,000.57 lbs</td>\n",
       "      <td>NaN</td>\n",
       "    </tr>\n",
       "    <tr>\n",
       "      <th>20</th>\n",
       "      <td>Good</td>\n",
       "      <td>Dual Hydranoid</td>\n",
       "      <td>NaN</td>\n",
       "      <td>Alpha-Hydranoid</td>\n",
       "      <td>628849</td>\n",
       "      <td>NaN</td>\n",
       "      <td>60</td>\n",
       "      <td>Sega</td>\n",
       "      <td>100</td>\n",
       "      <td>NaN</td>\n",
       "      <td>...</td>\n",
       "      <td>Alien</td>\n",
       "      <td>100</td>\n",
       "      <td>1000000000</td>\n",
       "      <td>100</td>\n",
       "      <td>1000000000</td>\n",
       "      <td>Agility,Berserk Mode,Bloodlust,Cold Resistance...</td>\n",
       "      <td>7</td>\n",
       "      <td>Bakugan</td>\n",
       "      <td>199.58 ton • 440,000.57 lbs</td>\n",
       "      <td>NaN</td>\n",
       "    </tr>\n",
       "    <tr>\n",
       "      <th>21</th>\n",
       "      <td>NaN</td>\n",
       "      <td>NaN</td>\n",
       "      <td>NaN</td>\n",
       "      <td>Alphamon</td>\n",
       "      <td>1.3116e+06</td>\n",
       "      <td>NaN</td>\n",
       "      <td>100</td>\n",
       "      <td>Shueisha</td>\n",
       "      <td>100</td>\n",
       "      <td>NaN</td>\n",
       "      <td>...</td>\n",
       "      <td>NaN</td>\n",
       "      <td>100</td>\n",
       "      <td>1000000000</td>\n",
       "      <td>100</td>\n",
       "      <td>1000000000</td>\n",
       "      <td>Acausality,Dimensional Travel,Energy Manipulat...</td>\n",
       "      <td>7</td>\n",
       "      <td>Digimon</td>\n",
       "      <td>-</td>\n",
       "      <td>NaN</td>\n",
       "    </tr>\n",
       "    <tr>\n",
       "      <th>22</th>\n",
       "      <td>NaN</td>\n",
       "      <td>NaN</td>\n",
       "      <td>NaN</td>\n",
       "      <td>Alphamon</td>\n",
       "      <td>1.56742e+06</td>\n",
       "      <td>NaN</td>\n",
       "      <td>100</td>\n",
       "      <td>Shueisha</td>\n",
       "      <td>100</td>\n",
       "      <td>NaN</td>\n",
       "      <td>...</td>\n",
       "      <td>NaN</td>\n",
       "      <td>100</td>\n",
       "      <td>1000000000</td>\n",
       "      <td>100</td>\n",
       "      <td>1000000000</td>\n",
       "      <td>Acausality,Dimensional Travel,Energy Manipulat...</td>\n",
       "      <td>7</td>\n",
       "      <td>Digimon</td>\n",
       "      <td>-</td>\n",
       "      <td>NaN</td>\n",
       "    </tr>\n",
       "    <tr>\n",
       "      <th>24</th>\n",
       "      <td>Good</td>\n",
       "      <td>NaN</td>\n",
       "      <td>NaN</td>\n",
       "      <td>Alphonse Elric</td>\n",
       "      <td>130</td>\n",
       "      <td>NaN</td>\n",
       "      <td>80</td>\n",
       "      <td>Square Enix</td>\n",
       "      <td>15</td>\n",
       "      <td>NaN</td>\n",
       "      <td>...</td>\n",
       "      <td>Human</td>\n",
       "      <td>25</td>\n",
       "      <td>500</td>\n",
       "      <td>25</td>\n",
       "      <td>1000</td>\n",
       "      <td>Acrobatics,Agility,Cyborgization,Master Martia...</td>\n",
       "      <td>1</td>\n",
       "      <td>FMA</td>\n",
       "      <td>-</td>\n",
       "      <td>NaN</td>\n",
       "    </tr>\n",
       "    <tr>\n",
       "      <th>25</th>\n",
       "      <td>Good</td>\n",
       "      <td>NaN</td>\n",
       "      <td>NaN</td>\n",
       "      <td>Alphonse Elric</td>\n",
       "      <td>136</td>\n",
       "      <td>NaN</td>\n",
       "      <td>80</td>\n",
       "      <td>Square Enix</td>\n",
       "      <td>15</td>\n",
       "      <td>NaN</td>\n",
       "      <td>...</td>\n",
       "      <td>Human</td>\n",
       "      <td>25</td>\n",
       "      <td>500</td>\n",
       "      <td>25</td>\n",
       "      <td>1000</td>\n",
       "      <td>Acrobatics,Agility,Cyborgization,Master Martia...</td>\n",
       "      <td>1</td>\n",
       "      <td>FMA</td>\n",
       "      <td>-</td>\n",
       "      <td>NaN</td>\n",
       "    </tr>\n",
       "    <tr>\n",
       "      <th>26</th>\n",
       "      <td>Good</td>\n",
       "      <td>NaN</td>\n",
       "      <td>Gotham City</td>\n",
       "      <td>Batwoman</td>\n",
       "      <td>60</td>\n",
       "      <td>NaN</td>\n",
       "      <td>80</td>\n",
       "      <td>DC Comics</td>\n",
       "      <td>15</td>\n",
       "      <td>NaN</td>\n",
       "      <td>...</td>\n",
       "      <td>Human</td>\n",
       "      <td>6</td>\n",
       "      <td>10</td>\n",
       "      <td>1</td>\n",
       "      <td>120</td>\n",
       "      <td>Adaptation,Agility,Dexterity,Durability,Gadget...</td>\n",
       "      <td>1</td>\n",
       "      <td>Earth 3</td>\n",
       "      <td>50 kg • 110.23 lbs</td>\n",
       "      <td>Stephanie Brown is Batwoman, making her one of...</td>\n",
       "    </tr>\n",
       "    <tr>\n",
       "      <th>27</th>\n",
       "      <td>Good</td>\n",
       "      <td>NaN</td>\n",
       "      <td>Gotham City</td>\n",
       "      <td>Batwoman</td>\n",
       "      <td>71</td>\n",
       "      <td>NaN</td>\n",
       "      <td>80</td>\n",
       "      <td>DC Comics</td>\n",
       "      <td>15</td>\n",
       "      <td>NaN</td>\n",
       "      <td>...</td>\n",
       "      <td>Human</td>\n",
       "      <td>6</td>\n",
       "      <td>10</td>\n",
       "      <td>1</td>\n",
       "      <td>120</td>\n",
       "      <td>Adaptation,Agility,Dexterity,Durability,Gadget...</td>\n",
       "      <td>1</td>\n",
       "      <td>Earth 3</td>\n",
       "      <td>50 kg • 110.23 lbs</td>\n",
       "      <td>Stephanie Brown is Batwoman, making her one of...</td>\n",
       "    </tr>\n",
       "    <tr>\n",
       "      <th>28</th>\n",
       "      <td>Neutral</td>\n",
       "      <td>NaN</td>\n",
       "      <td>NaN</td>\n",
       "      <td>Android 16</td>\n",
       "      <td>34587</td>\n",
       "      <td>Anime,Dragon Ball Verse Characters,Roleplaying...</td>\n",
       "      <td>100</td>\n",
       "      <td>Shueisha</td>\n",
       "      <td>75</td>\n",
       "      <td>NaN</td>\n",
       "      <td>...</td>\n",
       "      <td>Android</td>\n",
       "      <td>80</td>\n",
       "      <td>265000000</td>\n",
       "      <td>100</td>\n",
       "      <td>1000000000</td>\n",
       "      <td>Accelerated Development,Acrobatics,Agility,Bio...</td>\n",
       "      <td>5</td>\n",
       "      <td>DB</td>\n",
       "      <td>-</td>\n",
       "      <td>NaN</td>\n",
       "    </tr>\n",
       "    <tr>\n",
       "      <th>29</th>\n",
       "      <td>Neutral</td>\n",
       "      <td>NaN</td>\n",
       "      <td>NaN</td>\n",
       "      <td>Android 16</td>\n",
       "      <td>38141</td>\n",
       "      <td>Anime,Dragon Ball Verse Characters,Roleplaying...</td>\n",
       "      <td>100</td>\n",
       "      <td>Shueisha</td>\n",
       "      <td>75</td>\n",
       "      <td>NaN</td>\n",
       "      <td>...</td>\n",
       "      <td>Android</td>\n",
       "      <td>80</td>\n",
       "      <td>265000000</td>\n",
       "      <td>100</td>\n",
       "      <td>1000000000</td>\n",
       "      <td>Accelerated Development,Acrobatics,Agility,Bio...</td>\n",
       "      <td>5</td>\n",
       "      <td>DB</td>\n",
       "      <td>-</td>\n",
       "      <td>NaN</td>\n",
       "    </tr>\n",
       "    <tr>\n",
       "      <th>31</th>\n",
       "      <td>Good</td>\n",
       "      <td>Android 17 (Super 17),Future Android 17</td>\n",
       "      <td>NaN</td>\n",
       "      <td>Android 17</td>\n",
       "      <td>102992</td>\n",
       "      <td>Anime,Anti-heroes,Dragon Ball Verse Characters...</td>\n",
       "      <td>100</td>\n",
       "      <td>Shueisha</td>\n",
       "      <td>100</td>\n",
       "      <td>NaN</td>\n",
       "      <td>...</td>\n",
       "      <td>Android</td>\n",
       "      <td>100</td>\n",
       "      <td>1000000000</td>\n",
       "      <td>100</td>\n",
       "      <td>1000000000</td>\n",
       "      <td>Acrobatics,Agility,Aura,Chi Manipulation,Clair...</td>\n",
       "      <td>6</td>\n",
       "      <td>DB</td>\n",
       "      <td>-</td>\n",
       "      <td>Android 17 was originally a human named Lapis,...</td>\n",
       "    </tr>\n",
       "    <tr>\n",
       "      <th>32</th>\n",
       "      <td>Good</td>\n",
       "      <td>Android 17 (Super 17),Future Android 17</td>\n",
       "      <td>NaN</td>\n",
       "      <td>Android 17</td>\n",
       "      <td>130837</td>\n",
       "      <td>Anime,Anti-heroes,Characters With Yellow Ratin...</td>\n",
       "      <td>100</td>\n",
       "      <td>Shueisha</td>\n",
       "      <td>100</td>\n",
       "      <td>NaN</td>\n",
       "      <td>...</td>\n",
       "      <td>Android</td>\n",
       "      <td>100</td>\n",
       "      <td>1000000000</td>\n",
       "      <td>100</td>\n",
       "      <td>1000000000</td>\n",
       "      <td>Acrobatics,Agility,Aura,Chi Manipulation,Clair...</td>\n",
       "      <td>6</td>\n",
       "      <td>DB</td>\n",
       "      <td>-</td>\n",
       "      <td>Android 17 was originally a human named Lapis,...</td>\n",
       "    </tr>\n",
       "    <tr>\n",
       "      <th>33</th>\n",
       "      <td>Good</td>\n",
       "      <td>NaN</td>\n",
       "      <td>NaN</td>\n",
       "      <td>Anton (Cosmoball)</td>\n",
       "      <td>1569</td>\n",
       "      <td>NaN</td>\n",
       "      <td>45</td>\n",
       "      <td>NaN</td>\n",
       "      <td>35</td>\n",
       "      <td>NaN</td>\n",
       "      <td>...</td>\n",
       "      <td>NaN</td>\n",
       "      <td>80</td>\n",
       "      <td>300000000</td>\n",
       "      <td>30</td>\n",
       "      <td>100000</td>\n",
       "      <td>Durability,Stamina,Super Speed,Super Strength,...</td>\n",
       "      <td>3</td>\n",
       "      <td>NaN</td>\n",
       "      <td>-</td>\n",
       "      <td>NaN</td>\n",
       "    </tr>\n",
       "    <tr>\n",
       "      <th>34</th>\n",
       "      <td>Good</td>\n",
       "      <td>NaN</td>\n",
       "      <td>NaN</td>\n",
       "      <td>Anton (Cosmoball)</td>\n",
       "      <td>1628</td>\n",
       "      <td>NaN</td>\n",
       "      <td>45</td>\n",
       "      <td>NaN</td>\n",
       "      <td>35</td>\n",
       "      <td>NaN</td>\n",
       "      <td>...</td>\n",
       "      <td>NaN</td>\n",
       "      <td>80</td>\n",
       "      <td>300000000</td>\n",
       "      <td>30</td>\n",
       "      <td>100000</td>\n",
       "      <td>Durability,Stamina,Super Speed,Super Strength,...</td>\n",
       "      <td>3</td>\n",
       "      <td>NaN</td>\n",
       "      <td>-</td>\n",
       "      <td>NaN</td>\n",
       "    </tr>\n",
       "  </tbody>\n",
       "</table>\n",
       "<p>30 rows × 39 columns</p>\n",
       "</div>"
      ],
      "text/plain": [
       "   Alignment                                         Alter_Egos         Base  \\\n",
       "0       Good                                                NaN          NaN   \n",
       "1       Good                                                NaN          NaN   \n",
       "2       Good                                                NaN          NaN   \n",
       "3       Good                                                NaN          NaN   \n",
       "4       Good                                                NaN          NaN   \n",
       "5       Good                                                NaN          NaN   \n",
       "6    Neutral                                                NaN          NaN   \n",
       "7    Neutral  Bayonetta,Bayonetta,Bayonetta,Bayonetta,Bayonetta          NaN   \n",
       "8       Good                                                NaN          NaN   \n",
       "9       Good                                                NaN          NaN   \n",
       "10       Bad                                                NaN          NaN   \n",
       "11       Bad                                                NaN          NaN   \n",
       "13       Bad                                                NaN          NaN   \n",
       "14       Bad                                                NaN          NaN   \n",
       "16       Bad                                                NaN          NaN   \n",
       "17       Bad                                                NaN          NaN   \n",
       "19      Good                                     Dual Hydranoid          NaN   \n",
       "20      Good                                     Dual Hydranoid          NaN   \n",
       "21       NaN                                                NaN          NaN   \n",
       "22       NaN                                                NaN          NaN   \n",
       "24      Good                                                NaN          NaN   \n",
       "25      Good                                                NaN          NaN   \n",
       "26      Good                                                NaN  Gotham City   \n",
       "27      Good                                                NaN  Gotham City   \n",
       "28   Neutral                                                NaN          NaN   \n",
       "29   Neutral                                                NaN          NaN   \n",
       "31      Good            Android 17 (Super 17),Future Android 17          NaN   \n",
       "32      Good            Android 17 (Super 17),Future Android 17          NaN   \n",
       "33      Good                                                NaN          NaN   \n",
       "34      Good                                                NaN          NaN   \n",
       "\n",
       "            Character  Class_value  \\\n",
       "0             Alucard         5471   \n",
       "1             Alucard         5876   \n",
       "2             Alucard  2.58601e+06   \n",
       "3             Alucard   3.3801e+06   \n",
       "4             Alucard         1170   \n",
       "5             Alucard         1362   \n",
       "6           Bayonetta       100627   \n",
       "7           Bayonetta       171876   \n",
       "8                Adam           40   \n",
       "9                Adam           44   \n",
       "10             Alessi           39   \n",
       "11             Alessi           33   \n",
       "13            Bad Ben         5329   \n",
       "14            Bad Ben         6022   \n",
       "16    Aldrich Killian          133   \n",
       "17    Aldrich Killian          144   \n",
       "19    Alpha-Hydranoid       551094   \n",
       "20    Alpha-Hydranoid       628849   \n",
       "21           Alphamon   1.3116e+06   \n",
       "22           Alphamon  1.56742e+06   \n",
       "24     Alphonse Elric          130   \n",
       "25     Alphonse Elric          136   \n",
       "26           Batwoman           60   \n",
       "27           Batwoman           71   \n",
       "28         Android 16        34587   \n",
       "29         Android 16        38141   \n",
       "31         Android 17       102992   \n",
       "32         Android 17       130837   \n",
       "33  Anton (Cosmoball)         1569   \n",
       "34  Anton (Cosmoball)         1628   \n",
       "\n",
       "                                          Collections Combat          Creator  \\\n",
       "0                                                 NaN     80           Konami   \n",
       "1                                                 NaN     80           Konami   \n",
       "2                                                 NaN     90           Konami   \n",
       "3                                                 NaN     90           Konami   \n",
       "4                                                 NaN    100              NaN   \n",
       "5                                                 NaN    100              NaN   \n",
       "6   Anti-heroes,Gamekings,Roleplaying Collection,V...     90             Sega   \n",
       "7   Anti-heroes,Characters With Yellow Rating,Deat...     90             Sega   \n",
       "8                                                 NaN     40              NaN   \n",
       "9                                                 NaN     40              NaN   \n",
       "10                                                NaN     11              NaN   \n",
       "11                                                NaN     11              NaN   \n",
       "13                                   Ben 10 Franchise     60  Cartoon Network   \n",
       "14                                   Ben 10 Franchise     60  Cartoon Network   \n",
       "16                                                NaN     60    Marvel Comics   \n",
       "17                                                NaN     60    Marvel Comics   \n",
       "19                                                NaN     60             Sega   \n",
       "20                                                NaN     60             Sega   \n",
       "21                                                NaN    100         Shueisha   \n",
       "22                                                NaN    100         Shueisha   \n",
       "24                                                NaN     80      Square Enix   \n",
       "25                                                NaN     80      Square Enix   \n",
       "26                                                NaN     80        DC Comics   \n",
       "27                                                NaN     80        DC Comics   \n",
       "28  Anime,Dragon Ball Verse Characters,Roleplaying...    100         Shueisha   \n",
       "29  Anime,Dragon Ball Verse Characters,Roleplaying...    100         Shueisha   \n",
       "31  Anime,Anti-heroes,Dragon Ball Verse Characters...    100         Shueisha   \n",
       "32  Anime,Anti-heroes,Characters With Yellow Ratin...    100         Shueisha   \n",
       "33                                                NaN     45              NaN   \n",
       "34                                                NaN     45              NaN   \n",
       "\n",
       "   Durability                       Equipment  ...    Species Speed  \\\n",
       "0          35                             NaN  ...      Human    30   \n",
       "1          35                             NaN  ...      Human    30   \n",
       "2         100                             NaN  ...    Vampire   100   \n",
       "3         100                             NaN  ...    Vampire   100   \n",
       "4          45                             NaN  ...        NaN    50   \n",
       "5          45                             NaN  ...        NaN    50   \n",
       "6          75                    Umbran Armor  ...      Human    50   \n",
       "7          75  Umbran Armor,Eyes Of The World  ...      Human    50   \n",
       "8          15                             NaN  ...      Human    10   \n",
       "9          15                             NaN  ...      Human    10   \n",
       "10          5                             NaN  ...      Human     1   \n",
       "11          5                             NaN  ...      Human     1   \n",
       "13         60                        Omnitrix  ...        NaN    80   \n",
       "14         60                        Omnitrix  ...        NaN    80   \n",
       "16         25                             NaN  ...  Metahuman     6   \n",
       "17         25                             NaN  ...  Metahuman     6   \n",
       "19        100                             NaN  ...      Alien   100   \n",
       "20        100                             NaN  ...      Alien   100   \n",
       "21        100                             NaN  ...        NaN   100   \n",
       "22        100                             NaN  ...        NaN   100   \n",
       "24         15                             NaN  ...      Human    25   \n",
       "25         15                             NaN  ...      Human    25   \n",
       "26         15                             NaN  ...      Human     6   \n",
       "27         15                             NaN  ...      Human     6   \n",
       "28         75                             NaN  ...    Android    80   \n",
       "29         75                             NaN  ...    Android    80   \n",
       "31        100                             NaN  ...    Android   100   \n",
       "32        100                             NaN  ...    Android   100   \n",
       "33         35                             NaN  ...        NaN    80   \n",
       "34         35                             NaN  ...        NaN    80   \n",
       "\n",
       "   Speed_velocity Strength Strength_force  \\\n",
       "0            2000       30         100000   \n",
       "1            2000       30         100000   \n",
       "2      1000000000      100     1000000000   \n",
       "3      1000000000      100     1000000000   \n",
       "4           10000       50         400000   \n",
       "5           10000       50         400000   \n",
       "6         2997925       55        1000000   \n",
       "7         2997925       55        1000000   \n",
       "8              18       25           8000   \n",
       "9              18       25           8000   \n",
       "10              2        1             83   \n",
       "11              2        1             83   \n",
       "13      290000000       50         400000   \n",
       "14      290000000       50         400000   \n",
       "16             10        5            200   \n",
       "17             10        5            200   \n",
       "19     1000000000      100     1000000000   \n",
       "20     1000000000      100     1000000000   \n",
       "21     1000000000      100     1000000000   \n",
       "22     1000000000      100     1000000000   \n",
       "24            500       25           1000   \n",
       "25            500       25           1000   \n",
       "26             10        1            120   \n",
       "27             10        1            120   \n",
       "28      265000000      100     1000000000   \n",
       "29      265000000      100     1000000000   \n",
       "31     1000000000      100     1000000000   \n",
       "32     1000000000      100     1000000000   \n",
       "33      300000000       30         100000   \n",
       "34      300000000       30         100000   \n",
       "\n",
       "                                         Super_powers Tier     Universe  \\\n",
       "0   Accelerated Healing,Agility,Berserk Mode,Blood...    2         C17S   \n",
       "1   Accelerated Healing,Agility,Berserk Mode,Blood...    2         C17S   \n",
       "2   Accelerated Healing,Acrobatics,Agility,Blood M...    7  Castlevania   \n",
       "3   Accelerated Healing,Acrobatics,Agility,Blood M...    7  Castlevania   \n",
       "4   Accelerated Healing,Acrobatics,Agility,Berserk...    2           ML   \n",
       "5   Accelerated Healing,Acrobatics,Agility,Berserk...    2           ML   \n",
       "6   Agility,Chain Manipulation,Durability,Energy A...    4    Bayonetta   \n",
       "7   Agility,Chain Manipulation,Durability,Energy A...    4    Bayonetta   \n",
       "8   Acrobatics,Agility,Durability,Jump,Stamina,Sup...    1   The Hollow   \n",
       "9   Acrobatics,Agility,Durability,Jump,Stamina,Sup...    1   The Hollow   \n",
       "10  Age Manipulation,Animated Shadow,Power Nullifi...    1         JJBA   \n",
       "11  Age Manipulation,Animated Shadow,Power Nullifi...    1         JJBA   \n",
       "13  Black Hole Manipulation,Durability,Intangibili...    4          NaN   \n",
       "14  Black Hole Manipulation,Durability,Intangibili...    4          NaN   \n",
       "16  Accelerated Healing,Cold Resistance,Energy Bea...    1  Earth-13122   \n",
       "17  Accelerated Healing,Cold Resistance,Energy Bea...    1  Earth-13122   \n",
       "19  Agility,Berserk Mode,Bloodlust,Cold Resistance...    7      Bakugan   \n",
       "20  Agility,Berserk Mode,Bloodlust,Cold Resistance...    7      Bakugan   \n",
       "21  Acausality,Dimensional Travel,Energy Manipulat...    7      Digimon   \n",
       "22  Acausality,Dimensional Travel,Energy Manipulat...    7      Digimon   \n",
       "24  Acrobatics,Agility,Cyborgization,Master Martia...    1          FMA   \n",
       "25  Acrobatics,Agility,Cyborgization,Master Martia...    1          FMA   \n",
       "26  Adaptation,Agility,Dexterity,Durability,Gadget...    1      Earth 3   \n",
       "27  Adaptation,Agility,Dexterity,Durability,Gadget...    1      Earth 3   \n",
       "28  Accelerated Development,Acrobatics,Agility,Bio...    5           DB   \n",
       "29  Accelerated Development,Acrobatics,Agility,Bio...    5           DB   \n",
       "31  Acrobatics,Agility,Aura,Chi Manipulation,Clair...    6           DB   \n",
       "32  Acrobatics,Agility,Aura,Chi Manipulation,Clair...    6           DB   \n",
       "33  Durability,Stamina,Super Speed,Super Strength,...    3          NaN   \n",
       "34  Durability,Stamina,Super Speed,Super Strength,...    3          NaN   \n",
       "\n",
       "                         Weight  \\\n",
       "0            82 kg • 180.78 lbs   \n",
       "1            82 kg • 180.78 lbs   \n",
       "2                             -   \n",
       "3                             -   \n",
       "4                             -   \n",
       "5                             -   \n",
       "6          90.7 kg • 199.96 lbs   \n",
       "7          90.7 kg • 199.96 lbs   \n",
       "8                             -   \n",
       "9                             -   \n",
       "10                            -   \n",
       "11                            -   \n",
       "13                            -   \n",
       "14                            -   \n",
       "16                            -   \n",
       "17                            -   \n",
       "19  199.58 ton • 440,000.57 lbs   \n",
       "20  199.58 ton • 440,000.57 lbs   \n",
       "21                            -   \n",
       "22                            -   \n",
       "24                            -   \n",
       "25                            -   \n",
       "26           50 kg • 110.23 lbs   \n",
       "27           50 kg • 110.23 lbs   \n",
       "28                            -   \n",
       "29                            -   \n",
       "31                            -   \n",
       "32                            -   \n",
       "33                            -   \n",
       "34                            -   \n",
       "\n",
       "                                              History  \n",
       "0                                                 NaN  \n",
       "1                                                 NaN  \n",
       "2                                                 NaN  \n",
       "3                                                 NaN  \n",
       "4                                                 NaN  \n",
       "5                                                 NaN  \n",
       "6                                                 NaN  \n",
       "7                                                 NaN  \n",
       "8                                                 NaN  \n",
       "9                                                 NaN  \n",
       "10                                                NaN  \n",
       "11                                                NaN  \n",
       "13  Bad Ben first appeared in  , where he was amon...  \n",
       "14  Bad Ben first appeared in  , where he was amon...  \n",
       "16                                                NaN  \n",
       "17                                                NaN  \n",
       "19                                                NaN  \n",
       "20                                                NaN  \n",
       "21                                                NaN  \n",
       "22                                                NaN  \n",
       "24                                                NaN  \n",
       "25                                                NaN  \n",
       "26  Stephanie Brown is Batwoman, making her one of...  \n",
       "27  Stephanie Brown is Batwoman, making her one of...  \n",
       "28                                                NaN  \n",
       "29                                                NaN  \n",
       "31  Android 17 was originally a human named Lapis,...  \n",
       "32  Android 17 was originally a human named Lapis,...  \n",
       "33                                                NaN  \n",
       "34                                                NaN  \n",
       "\n",
       "[30 rows x 39 columns]"
      ]
     },
     "execution_count": 4,
     "metadata": {},
     "output_type": "execute_result"
    }
   ],
   "source": [
    "datos.head(30)"
   ]
  },
  {
   "cell_type": "markdown",
   "metadata": {},
   "source": [
    "### PREPROCESSAMENT DE LES DADES I ANÀLISI DESCRIPTIVA"
   ]
  },
  {
   "cell_type": "code",
   "execution_count": 5,
   "metadata": {},
   "outputs": [
    {
     "name": "stdout",
     "output_type": "stream",
     "text": [
      "Alignment         object\n",
      "Alter_Egos        object\n",
      "Base              object\n",
      "Character         object\n",
      "Class_value       object\n",
      "Collections       object\n",
      "Combat            object\n",
      "Creator           object\n",
      "Durability        object\n",
      "Equipment         object\n",
      "Eye_color         object\n",
      "Formerly          object\n",
      "Full_name         object\n",
      "Gender            object\n",
      "Hair_color        object\n",
      "Height            object\n",
      "IQ                object\n",
      "Intelligence      object\n",
      "Leader            object\n",
      "Level             object\n",
      "Member            object\n",
      "Name              object\n",
      "Occupation        object\n",
      "Omnipotent        object\n",
      "Omnipresent       object\n",
      "Omniscient        object\n",
      "Place_of_birth    object\n",
      "Power             object\n",
      "Relatives         object\n",
      "Species           object\n",
      "Speed             object\n",
      "Speed_velocity    object\n",
      "Strength          object\n",
      "Strength_force    object\n",
      "Super_powers      object\n",
      "Tier              object\n",
      "Universe          object\n",
      "Weight            object\n",
      "History           object\n",
      "dtype: object\n"
     ]
    }
   ],
   "source": [
    "print(datos.dtypes)"
   ]
  },
  {
   "cell_type": "markdown",
   "metadata": {},
   "source": []
  },
  {
   "cell_type": "code",
   "execution_count": 6,
   "metadata": {},
   "outputs": [],
   "source": [
    "columnas_cate = ['Alignment', 'Alter_Egos' ,'Base', 'Character', 'Collections', 'Creator', 'Equipment', 'Eye_color', 'Formerly', 'Full_name', 'Gender', 'Hair_color', 'Height', 'Place_of_birth', 'Relatives', 'Species', 'Super_powers', 'Universe', 'Leader', 'Member', 'Name', 'Occupation', 'Weight','History']\n",
    "\n",
    "\n",
    "datos[columnas_cate] = datos[columnas_cate].astype('category')\n",
    "\n",
    "columnas_num = ['Class_value', 'Combat', 'Durability', 'IQ', 'Intelligence', 'Level', 'Omnipotent', 'Omnipresent', 'Omniscient', 'Power', 'Speed', 'Speed_velocity', 'Strength', 'Strength_force', 'Tier']\n",
    "\n",
    "datos[columnas_num] = datos[columnas_num].apply(pd.to_numeric, errors='coerce')\n"
   ]
  },
  {
   "cell_type": "code",
   "execution_count": 7,
   "metadata": {
    "scrolled": true
   },
   "outputs": [
    {
     "name": "stdout",
     "output_type": "stream",
     "text": [
      "Alignment         category\n",
      "Alter_Egos        category\n",
      "Base              category\n",
      "Character         category\n",
      "Class_value        float64\n",
      "Collections       category\n",
      "Combat             float64\n",
      "Creator           category\n",
      "Durability         float64\n",
      "Equipment         category\n",
      "Eye_color         category\n",
      "Formerly          category\n",
      "Full_name         category\n",
      "Gender            category\n",
      "Hair_color        category\n",
      "Height            category\n",
      "IQ                 float64\n",
      "Intelligence       float64\n",
      "Leader            category\n",
      "Level              float64\n",
      "Member            category\n",
      "Name              category\n",
      "Occupation        category\n",
      "Omnipotent         float64\n",
      "Omnipresent        float64\n",
      "Omniscient         float64\n",
      "Place_of_birth    category\n",
      "Power              float64\n",
      "Relatives         category\n",
      "Species           category\n",
      "Speed              float64\n",
      "Speed_velocity     float64\n",
      "Strength           float64\n",
      "Strength_force     float64\n",
      "Super_powers      category\n",
      "Tier               float64\n",
      "Universe          category\n",
      "Weight            category\n",
      "History           category\n",
      "dtype: object\n"
     ]
    }
   ],
   "source": [
    "print(datos.dtypes)"
   ]
  },
  {
   "cell_type": "code",
   "execution_count": 8,
   "metadata": {},
   "outputs": [
    {
     "name": "stdout",
     "output_type": "stream",
     "text": [
      "Alignment          6145\n",
      "Alter_Egos        21593\n",
      "Base              19222\n",
      "Character             0\n",
      "Class_value         179\n",
      "Collections       16763\n",
      "Combat              179\n",
      "Creator            4032\n",
      "Durability          179\n",
      "Equipment         23185\n",
      "Eye_color          6690\n",
      "Formerly          23366\n",
      "Full_name         20263\n",
      "Gender             6340\n",
      "Hair_color         6796\n",
      "Height              178\n",
      "IQ                  179\n",
      "Intelligence        179\n",
      "Leader            24215\n",
      "Level               179\n",
      "Member            23366\n",
      "Name               7537\n",
      "Occupation        15228\n",
      "Omnipotent          179\n",
      "Omnipresent         179\n",
      "Omniscient          179\n",
      "Place_of_birth    19081\n",
      "Power               179\n",
      "Relatives         17779\n",
      "Species            9380\n",
      "Speed               179\n",
      "Speed_velocity      179\n",
      "Strength            179\n",
      "Strength_force      179\n",
      "Super_powers       3142\n",
      "Tier                179\n",
      "Universe           2884\n",
      "Weight              178\n",
      "History           18539\n",
      "dtype: int64\n"
     ]
    }
   ],
   "source": [
    "print(datos.isna().sum())"
   ]
  },
  {
   "cell_type": "code",
   "execution_count": 9,
   "metadata": {},
   "outputs": [],
   "source": [
    "datos = datos.drop(columns=['Alter_Egos','Equipment','Leader','Formerly','History','Base','Collections','Full_name','Member','Name','Occupation','Place_of_birth', 'Relatives','History'])"
   ]
  },
  {
   "cell_type": "code",
   "execution_count": 10,
   "metadata": {},
   "outputs": [
    {
     "name": "stdout",
     "output_type": "stream",
     "text": [
      "Alignment         6145\n",
      "Character            0\n",
      "Class_value        179\n",
      "Combat             179\n",
      "Creator           4032\n",
      "Durability         179\n",
      "Eye_color         6690\n",
      "Gender            6340\n",
      "Hair_color        6796\n",
      "Height             178\n",
      "IQ                 179\n",
      "Intelligence       179\n",
      "Level              179\n",
      "Omnipotent         179\n",
      "Omnipresent        179\n",
      "Omniscient         179\n",
      "Power              179\n",
      "Species           9380\n",
      "Speed              179\n",
      "Speed_velocity     179\n",
      "Strength           179\n",
      "Strength_force     179\n",
      "Super_powers      3142\n",
      "Tier               179\n",
      "Universe          2884\n",
      "Weight             178\n",
      "dtype: int64\n"
     ]
    }
   ],
   "source": [
    "print(datos.isna().sum())"
   ]
  },
  {
   "cell_type": "markdown",
   "metadata": {},
   "source": [
    "IMPUTACIÓN"
   ]
  },
  {
   "cell_type": "code",
   "execution_count": 11,
   "metadata": {},
   "outputs": [
    {
     "name": "stdout",
     "output_type": "stream",
     "text": [
      "{'Alignment': 965, 'Character': 0, 'Class_value': 0, 'Combat': 0, 'Creator': 0, 'Durability': 0, 'Eye_color': 4251, 'Gender': 1018, 'Hair_color': 3865, 'Height': 17125, 'IQ': 0, 'Intelligence': 0, 'Level': 0, 'Omnipotent': 0, 'Omnipresent': 0, 'Omniscient': 0, 'Power': 0, 'Species': 0, 'Speed': 0, 'Speed_velocity': 0, 'Strength': 0, 'Strength_force': 0, 'Super_powers': 0, 'Tier': 0, 'Universe': 0, 'Weight': 18761}\n"
     ]
    }
   ],
   "source": [
    "def contar_GUIONES(df):\n",
    "   \n",
    "    guiones_counts = {} \n",
    "    for columna in df.columns:\n",
    "        guiones_counts[columna] = (df[columna] == \"-\").sum()  \n",
    "    \n",
    "    return guiones_counts\n",
    "\n",
    "print(contar_GUIONES(datos))"
   ]
  },
  {
   "cell_type": "code",
   "execution_count": 12,
   "metadata": {},
   "outputs": [],
   "source": [
    "datos = datos.drop(columns=['Height','Weight','Eye_color','Hair_color'])"
   ]
  },
  {
   "cell_type": "code",
   "execution_count": null,
   "metadata": {},
   "outputs": [],
   "source": []
  },
  {
   "cell_type": "code",
   "execution_count": 13,
   "metadata": {},
   "outputs": [
    {
     "name": "stdout",
     "output_type": "stream",
     "text": [
      "Alignment         6145\n",
      "Character            0\n",
      "Class_value        179\n",
      "Combat             179\n",
      "Creator           4032\n",
      "Durability         179\n",
      "Gender            6340\n",
      "IQ                 179\n",
      "Intelligence       179\n",
      "Level              179\n",
      "Omnipotent         179\n",
      "Omnipresent        179\n",
      "Omniscient         179\n",
      "Power              179\n",
      "Species           9380\n",
      "Speed              179\n",
      "Speed_velocity     179\n",
      "Strength           179\n",
      "Strength_force     179\n",
      "Super_powers      3142\n",
      "Tier               179\n",
      "Universe          2884\n",
      "dtype: int64\n"
     ]
    }
   ],
   "source": [
    "print(datos.isna().sum())"
   ]
  },
  {
   "cell_type": "code",
   "execution_count": 14,
   "metadata": {},
   "outputs": [
    {
     "data": {
      "text/plain": [
       "Good         9244\n",
       "Bad          5729\n",
       "Neutral      2585\n",
       "-             965\n",
       "Alignment       1\n",
       "Name: Alignment, dtype: int64"
      ]
     },
     "execution_count": 14,
     "metadata": {},
     "output_type": "execute_result"
    }
   ],
   "source": [
    "datos['Alignment'].value_counts()"
   ]
  },
  {
   "cell_type": "code",
   "execution_count": 15,
   "metadata": {},
   "outputs": [],
   "source": [
    "categorias_validas = ['Neutral', 'Good', 'Bad']\n",
    "\n",
    "datos['Alignment'] = datos['Alignment'].apply(lambda x: x if x in categorias_validas else 'Neutral')\n"
   ]
  },
  {
   "cell_type": "code",
   "execution_count": 16,
   "metadata": {},
   "outputs": [
    {
     "data": {
      "text/plain": [
       "Good       9244\n",
       "Bad        5729\n",
       "Neutral    3551\n",
       "Name: Alignment, dtype: int64"
      ]
     },
     "execution_count": 16,
     "metadata": {},
     "output_type": "execute_result"
    }
   ],
   "source": [
    "datos['Alignment'].value_counts()\n"
   ]
  },
  {
   "cell_type": "code",
   "execution_count": 17,
   "metadata": {},
   "outputs": [
    {
     "data": {
      "text/plain": [
       "6145"
      ]
     },
     "execution_count": 17,
     "metadata": {},
     "output_type": "execute_result"
    }
   ],
   "source": [
    "datos['Alignment'].isna().sum()"
   ]
  },
  {
   "cell_type": "markdown",
   "metadata": {},
   "source": [
    "   "
   ]
  },
  {
   "cell_type": "markdown",
   "metadata": {},
   "source": [
    " \n",
    " "
   ]
  },
  {
   "cell_type": "code",
   "execution_count": 18,
   "metadata": {},
   "outputs": [
    {
     "data": {
      "text/plain": [
       "Green Lantern        90\n",
       "Batman               85\n",
       "Superman             61\n",
       "Thor                 45\n",
       "Spider-Man           44\n",
       "                     ..\n",
       "Illidan Stormrage     1\n",
       "Ikkaku                1\n",
       "Ibuki Mioda           1\n",
       "Ibiki Morino          1\n",
       "#1                    1\n",
       "Name: Character, Length: 11262, dtype: int64"
      ]
     },
     "execution_count": 18,
     "metadata": {},
     "output_type": "execute_result"
    }
   ],
   "source": [
    "datos['Character'].value_counts()"
   ]
  },
  {
   "cell_type": "code",
   "execution_count": 19,
   "metadata": {},
   "outputs": [
    {
     "data": {
      "text/plain": [
       "count    2.449000e+04\n",
       "mean     1.087221e+11\n",
       "std      1.713258e+12\n",
       "min      0.000000e+00\n",
       "25%      1.290000e+02\n",
       "50%      1.678000e+03\n",
       "75%      2.294550e+05\n",
       "max      4.677292e+13\n",
       "Name: Class_value, dtype: float64"
      ]
     },
     "execution_count": 19,
     "metadata": {},
     "output_type": "execute_result"
    }
   ],
   "source": [
    "datos['Class_value'].describe()"
   ]
  },
  {
   "cell_type": "code",
   "execution_count": 20,
   "metadata": {},
   "outputs": [
    {
     "data": {
      "text/plain": [
       "count    24490.000000\n",
       "mean        66.306697\n",
       "std         28.550956\n",
       "min          0.000000\n",
       "25%         45.000000\n",
       "50%         70.000000\n",
       "75%         90.000000\n",
       "max        100.000000\n",
       "Name: Combat, dtype: float64"
      ]
     },
     "execution_count": 20,
     "metadata": {},
     "output_type": "execute_result"
    }
   ],
   "source": [
    "datos['Combat'].describe()"
   ]
  },
  {
   "cell_type": "code",
   "execution_count": 21,
   "metadata": {},
   "outputs": [],
   "source": [
    "datos['Creator'].value_counts()\n",
    "\n",
    "categorias_validas = ['Marvel Comics', 'Other', 'DC Comics','Shueisha', 'Nintendo', 'None']\n",
    "\n",
    "\n",
    "datos['Creator'] = datos['Creator'].apply(lambda x: x if x in categorias_validas else 'Other')"
   ]
  },
  {
   "cell_type": "code",
   "execution_count": 22,
   "metadata": {},
   "outputs": [
    {
     "data": {
      "text/plain": [
       "Other            9034\n",
       "Marvel Comics    4411\n",
       "DC Comics        3851\n",
       "Shueisha         2717\n",
       "Nintendo          624\n",
       "Name: Creator, dtype: int64"
      ]
     },
     "execution_count": 22,
     "metadata": {},
     "output_type": "execute_result"
    }
   ],
   "source": [
    "datos['Creator'].value_counts()\n"
   ]
  },
  {
   "cell_type": "code",
   "execution_count": 23,
   "metadata": {},
   "outputs": [
    {
     "data": {
      "text/plain": [
       "count    24490.000000\n",
       "mean        49.541650\n",
       "std         35.847303\n",
       "min          0.000000\n",
       "25%         15.000000\n",
       "50%         40.000000\n",
       "75%         95.000000\n",
       "max        100.000000\n",
       "Name: Durability, dtype: float64"
      ]
     },
     "execution_count": 23,
     "metadata": {},
     "output_type": "execute_result"
    }
   ],
   "source": [
    "datos['Durability'].describe()"
   ]
  },
  {
   "cell_type": "code",
   "execution_count": 24,
   "metadata": {},
   "outputs": [
    {
     "data": {
      "text/plain": [
       "Male      12287\n",
       "Female     4552\n",
       "-          1018\n",
       "Other       471\n",
       "Gender        1\n",
       "Name: Gender, dtype: int64"
      ]
     },
     "execution_count": 24,
     "metadata": {},
     "output_type": "execute_result"
    }
   ],
   "source": [
    "datos['Gender'].value_counts()"
   ]
  },
  {
   "cell_type": "code",
   "execution_count": 25,
   "metadata": {},
   "outputs": [
    {
     "data": {
      "text/plain": [
       "Male      12287\n",
       "Female     4552\n",
       "None       1490\n",
       "Name: Gender, dtype: int64"
      ]
     },
     "execution_count": 25,
     "metadata": {},
     "output_type": "execute_result"
    }
   ],
   "source": [
    "categorias_validas = ['None', 'Male', 'Female']\n",
    "\n",
    "datos['Gender'] = datos['Gender'].apply(lambda x: x if x in categorias_validas else 'None')\n",
    "\n",
    "datos['Gender'].value_counts()"
   ]
  },
  {
   "cell_type": "code",
   "execution_count": 26,
   "metadata": {},
   "outputs": [
    {
     "data": {
      "text/plain": [
       "count    24490.000000\n",
       "mean       141.423887\n",
       "std         37.620174\n",
       "min          0.000000\n",
       "25%        115.000000\n",
       "50%        140.000000\n",
       "75%        170.000000\n",
       "max        200.000000\n",
       "Name: IQ, dtype: float64"
      ]
     },
     "execution_count": 26,
     "metadata": {},
     "output_type": "execute_result"
    }
   ],
   "source": [
    "datos['IQ'].describe()"
   ]
  },
  {
   "cell_type": "code",
   "execution_count": 27,
   "metadata": {},
   "outputs": [
    {
     "data": {
      "text/plain": [
       "count    24490.000000\n",
       "mean        70.890282\n",
       "std         18.763994\n",
       "min          0.000000\n",
       "25%         60.000000\n",
       "50%         70.000000\n",
       "75%         85.000000\n",
       "max        100.000000\n",
       "Name: Intelligence, dtype: float64"
      ]
     },
     "execution_count": 27,
     "metadata": {},
     "output_type": "execute_result"
    }
   ],
   "source": [
    "datos['Intelligence'].describe()"
   ]
  },
  {
   "cell_type": "code",
   "execution_count": 28,
   "metadata": {},
   "outputs": [],
   "source": [
    "datos = datos.drop(columns=['IQ'])\n",
    "#elimino IQ porque Intelligence es proporcional"
   ]
  },
  {
   "cell_type": "code",
   "execution_count": 29,
   "metadata": {},
   "outputs": [
    {
     "data": {
      "text/plain": [
       "count    24490.000000\n",
       "mean         3.136219\n",
       "std          1.809562\n",
       "min          1.000000\n",
       "25%          2.000000\n",
       "50%          3.000000\n",
       "75%          5.000000\n",
       "max          6.000000\n",
       "Name: Level, dtype: float64"
      ]
     },
     "execution_count": 29,
     "metadata": {},
     "output_type": "execute_result"
    }
   ],
   "source": [
    "datos['Level'].describe()"
   ]
  },
  {
   "cell_type": "code",
   "execution_count": 30,
   "metadata": {},
   "outputs": [
    {
     "data": {
      "text/plain": [
       "0.0    24490\n",
       "Name: Omnipotent, dtype: int64"
      ]
     },
     "execution_count": 30,
     "metadata": {},
     "output_type": "execute_result"
    }
   ],
   "source": [
    "datos['Omnipotent'].value_counts()"
   ]
  },
  {
   "cell_type": "code",
   "execution_count": 31,
   "metadata": {},
   "outputs": [
    {
     "data": {
      "text/plain": [
       "0.0    23470\n",
       "1.0     1020\n",
       "Name: Omnipresent, dtype: int64"
      ]
     },
     "execution_count": 31,
     "metadata": {},
     "output_type": "execute_result"
    }
   ],
   "source": [
    "datos['Omnipresent'].value_counts()"
   ]
  },
  {
   "cell_type": "code",
   "execution_count": 32,
   "metadata": {},
   "outputs": [
    {
     "data": {
      "text/plain": [
       "0.0    24133\n",
       "1.0      357\n",
       "Name: Omniscient, dtype: int64"
      ]
     },
     "execution_count": 32,
     "metadata": {},
     "output_type": "execute_result"
    }
   ],
   "source": [
    "datos['Omniscient'].value_counts()"
   ]
  },
  {
   "cell_type": "code",
   "execution_count": 33,
   "metadata": {},
   "outputs": [],
   "source": [
    "datos = datos.drop(columns=['Omniscient','Omnipotent','Omnipresent'])"
   ]
  },
  {
   "cell_type": "code",
   "execution_count": 34,
   "metadata": {},
   "outputs": [
    {
     "data": {
      "text/plain": [
       "count    24490.000000\n",
       "mean        60.724010\n",
       "std         32.758462\n",
       "min          0.000000\n",
       "25%         30.000000\n",
       "50%         60.000000\n",
       "75%        100.000000\n",
       "max        100.000000\n",
       "Name: Power, dtype: float64"
      ]
     },
     "execution_count": 34,
     "metadata": {},
     "output_type": "execute_result"
    }
   ],
   "source": [
    "datos['Power'].describe()"
   ]
  },
  {
   "cell_type": "code",
   "execution_count": 35,
   "metadata": {},
   "outputs": [
    {
     "data": {
      "text/plain": [
       "count    24490.000000\n",
       "mean        47.949163\n",
       "std         38.095949\n",
       "min          0.000000\n",
       "25%         14.000000\n",
       "50%         30.000000\n",
       "75%        100.000000\n",
       "max        100.000000\n",
       "Name: Speed, dtype: float64"
      ]
     },
     "execution_count": 35,
     "metadata": {},
     "output_type": "execute_result"
    }
   ],
   "source": [
    "datos['Speed'].describe()"
   ]
  },
  {
   "cell_type": "code",
   "execution_count": 36,
   "metadata": {},
   "outputs": [
    {
     "data": {
      "text/plain": [
       "count    2.449000e+04\n",
       "mean     2.974601e+08\n",
       "std      4.371053e+08\n",
       "min      0.000000e+00\n",
       "25%      2.500000e+01\n",
       "50%      1.715000e+03\n",
       "75%      1.000000e+09\n",
       "max      1.000000e+09\n",
       "Name: Speed_velocity, dtype: float64"
      ]
     },
     "execution_count": 36,
     "metadata": {},
     "output_type": "execute_result"
    }
   ],
   "source": [
    "datos['Speed_velocity'].describe()"
   ]
  },
  {
   "cell_type": "code",
   "execution_count": 37,
   "metadata": {},
   "outputs": [
    {
     "data": {
      "text/plain": [
       "count    24490.000000\n",
       "mean        49.309392\n",
       "std         40.309143\n",
       "min          0.000000\n",
       "25%          8.000000\n",
       "50%         30.000000\n",
       "75%        100.000000\n",
       "max        100.000000\n",
       "Name: Strength, dtype: float64"
      ]
     },
     "execution_count": 37,
     "metadata": {},
     "output_type": "execute_result"
    }
   ],
   "source": [
    "datos['Strength'].describe()"
   ]
  },
  {
   "cell_type": "code",
   "execution_count": 38,
   "metadata": {},
   "outputs": [
    {
     "data": {
      "text/plain": [
       "count    2.449000e+04\n",
       "mean     3.244273e+08\n",
       "std      4.562419e+08\n",
       "min      0.000000e+00\n",
       "25%      3.000000e+02\n",
       "50%      1.000000e+05\n",
       "75%      1.000000e+09\n",
       "max      1.000000e+09\n",
       "Name: Strength_force, dtype: float64"
      ]
     },
     "execution_count": 38,
     "metadata": {},
     "output_type": "execute_result"
    }
   ],
   "source": [
    "datos['Strength_force'].describe()"
   ]
  },
  {
   "cell_type": "code",
   "execution_count": 39,
   "metadata": {},
   "outputs": [
    {
     "data": {
      "text/plain": [
       "count    24490.000000\n",
       "mean         3.654267\n",
       "std          2.779375\n",
       "min          0.000000\n",
       "25%          1.000000\n",
       "50%          3.000000\n",
       "75%          6.000000\n",
       "max         10.000000\n",
       "Name: Tier, dtype: float64"
      ]
     },
     "execution_count": 39,
     "metadata": {},
     "output_type": "execute_result"
    }
   ],
   "source": [
    "datos['Tier'].describe()"
   ]
  },
  {
   "cell_type": "code",
   "execution_count": 40,
   "metadata": {},
   "outputs": [
    {
     "data": {
      "text/plain": [
       "Human            7840\n",
       "Alien             867\n",
       "God / Eternal     828\n",
       "Demon             684\n",
       "Animal            576\n",
       "                 ... \n",
       "Twi'lek             1\n",
       "Species             1\n",
       "Smurf               1\n",
       "Leprechaun          1\n",
       "Naltorian           1\n",
       "Name: Species, Length: 94, dtype: int64"
      ]
     },
     "execution_count": 40,
     "metadata": {},
     "output_type": "execute_result"
    }
   ],
   "source": [
    "datos['Species'].value_counts()"
   ]
  },
  {
   "cell_type": "code",
   "execution_count": 41,
   "metadata": {},
   "outputs": [],
   "source": [
    "categorias_validas = ['None', 'Human', 'Alien', 'God / Eternal', 'Demon']\n",
    "\n",
    "datos['Species'] = datos['Species'].apply(lambda x: x if x in categorias_validas else 'Other')\n",
    "\n"
   ]
  },
  {
   "cell_type": "code",
   "execution_count": 42,
   "metadata": {},
   "outputs": [
    {
     "data": {
      "text/plain": [
       "Human            7840\n",
       "Other            5070\n",
       "Alien             867\n",
       "God / Eternal     828\n",
       "Demon             684\n",
       "Name: Species, dtype: int64"
      ]
     },
     "execution_count": 42,
     "metadata": {},
     "output_type": "execute_result"
    }
   ],
   "source": [
    "datos['Species'].value_counts()"
   ]
  },
  {
   "cell_type": "code",
   "execution_count": 43,
   "metadata": {},
   "outputs": [
    {
     "data": {
      "text/plain": [
       "Nigh-Omnipotence                                                                                                                                                                                                                                                                                                                                                                                                                                                                                                                                                                                                                                                                                                                                                                                                                                                                                                                                                                                                                                                                                                                                                                                                                                                                                                                                                                                                                                                                                                                                                                                                                                                                                                                                      483\n",
       "Nigh-Omnipotence,Nigh-Omniscience,Omnipresence                                                                                                                                                                                                                                                                                                                                                                                                                                                                                                                                                                                                                                                                                                                                                                                                                                                                                                                                                                                                                                                                                                                                                                                                                                                                                                                                                                                                                                                                                                                                                                                                                                                                                                        450\n",
       "Nigh-Omnipotence,Nigh-Omnipresence,Nigh-Omniscience                                                                                                                                                                                                                                                                                                                                                                                                                                                                                                                                                                                                                                                                                                                                                                                                                                                                                                                                                                                                                                                                                                                                                                                                                                                                                                                                                                                                                                                                                                                                                                                                                                                                                                   336\n",
       "Nigh-Omnipotence,Omnipresence,Omniscience                                                                                                                                                                                                                                                                                                                                                                                                                                                                                                                                                                                                                                                                                                                                                                                                                                                                                                                                                                                                                                                                                                                                                                                                                                                                                                                                                                                                                                                                                                                                                                                                                                                                                                             226\n",
       "Nigh-Omnipotence,Nigh-Omnipresence                                                                                                                                                                                                                                                                                                                                                                                                                                                                                                                                                                                                                                                                                                                                                                                                                                                                                                                                                                                                                                                                                                                                                                                                                                                                                                                                                                                                                                                                                                                                                                                                                                                                                                                    120\n",
       "                                                                                                                                                                                                                                                                                                                                                                                                                                                                                                                                                                                                                                                                                                                                                                                                                                                                                                                                                                                                                                                                                                                                                                                                                                                                                                                                                                                                                                                                                                                                                                                                                                                                                                                                                     ... \n",
       "Damage Reduction,Existence Erasure,Flight,Force Fields,Immortality,Invulnerability,Master Martial Artist,Non-Corporeal,Reality Warping,Regeneration,Statistics Amplification,Super Speed,Super Strength,Telepathy,Teleportation,Attack Reflection,Audio Alteration,Empathy,Energy Manipulation,Light Control,Magma Manipulation,Statistics Reduction,Summoning,Weapons Master                                                                                                                                                                                                                                                                                                                                                                                                                                                                                                                                                                                                                                                                                                                                                                                                                                                                                                                                                                                                                                                                                                                                                                                                                                                                                                                                                                           1\n",
       "Insanity,Reflexes                                                                                                                                                                                                                                                                                                                                                                                                                                                                                                                                                                                                                                                                                                                                                                                                                                                                                                                                                                                                                                                                                                                                                                                                                                                                                                                                                                                                                                                                                                                                                                                                                                                                                                                                       1\n",
       "Insanity,Weapons Master,Hacking,Master Martial Artist,Pain Suppression                                                                                                                                                                                                                                                                                                                                                                                                                                                                                                                                                                                                                                                                                                                                                                                                                                                                                                                                                                                                                                                                                                                                                                                                                                                                                                                                                                                                                                                                                                                                                                                                                                                                                  1\n",
       "Angel Physiology,Durability,Extrasensory Perception,Flight,Immortality,Large Size,Magic,Projection,Reality Warping,Self-Sustenance,Soul Resistance,Stamina,Super Speed,Super Strength,Telekinesis,Age Manipulation,Clairvoyance,Conceptual Manipulation,Cosmic Awareness,Creation,Cryokinesis,Electrokinesis,Element Control,Fire Control,Force Fields,Gravity Control,Information Analysis,Light Control,Magma Manipulation,Non-Physical Interaction,Pocket Dimensions,Portal Creation,Precognition,Soul Manipulation,Space Survivability,Spaceflight,Teleportation,Terrakinesis,Weapon Creation,Weather Control,Wind Control                                                                                                                                                                                                                                                                                                                                                                                                                                                                                                                                                                                                                                                                                                                                                                                                                                                                                                                                                                                                                                                                                                                          1\n",
       "Acid Resistants,Animation,Attack Negation,Attack Reflection,Cold Resistance,Cyborgization,Damage Reduction,Dexterity,Dimensional Travel,Electricity Resistance,Electro-Magnetism Manipulation,Endurance,Energy Absorption,Energy Manipulation,Enhanced Condition,Enhanced Sight,Fire Resistance,Force Fields,Gadget Usage,Heat Resistance,Magic,Magic Resistance,Mechanical Aptitude,Metal Manipulation,Physical Anomaly,Portal Creation,Power Nullifier,Preparation,Robotic Engineering,Sand Manipulation,Self-Sustenance,Technological Possession,Technopath/Cyberpath,Toxin and Disease Resistance,Unholy Resistance,Weapon Creation,Weapon-based Powers,Audio Alteration,Banish,Corruption Resistance,Curse Resistance,Deconstruction,Electricity Absorption,Electrokinesis,Energy Beams,Energy Blasts,Energy Resistance,Explosion Manipulation,Extrasensory Perception,Heat Generation,Illusion Resistance,Inorganic Physiology,Insanity,Intuitive aptitude,Invulnerability,Magic Absorption,Magnetism,Marksmanship,Master Tactician,Mind Control,Organic Manipulation,Perfect Recollection,Power Sense,Reflexes,Regeneration,Soul Manipulation,Soul Resistance,Statistics Amplification,Statistics Reduction,Stealth,Summoning,Teleportation,Terrakinesis,Toxin and Disease Control,Umbrakinesis,Vehicular Mastery,Weapons Master,Accelerated Healing,Creation,Disguise Mastery,Existence Erasure Resistance,Fusion,Holy Resistance,Illumination,Immortality,Longevity,Master Martial Artist,Mind Control Resistance,Necromancy,Possession,Possession Resistance,Sleep Manipulation,Status Effect Inducement,Swordsmanship,Telepathy Resistance,Time Manipulation Resistance,Unholy Manipulation,Vitakinesis,Void Manipulation,Water Control      1\n",
       "Name: Super_powers, Length: 11698, dtype: int64"
      ]
     },
     "execution_count": 43,
     "metadata": {},
     "output_type": "execute_result"
    }
   ],
   "source": [
    "datos['Super_powers'].value_counts()"
   ]
  },
  {
   "cell_type": "code",
   "execution_count": 44,
   "metadata": {},
   "outputs": [
    {
     "data": {
      "text/plain": [
       "Earth-616            2342\n",
       "Prime Earth          1477\n",
       "DB                    564\n",
       "MCU                   533\n",
       "League Of Legends     370\n",
       "                     ... \n",
       "Imaginary Friends       1\n",
       "Onward                  1\n",
       "Cknd                    1\n",
       "Claymore                1\n",
       "Bombshells              1\n",
       "Name: Universe, Length: 898, dtype: int64"
      ]
     },
     "execution_count": 44,
     "metadata": {},
     "output_type": "execute_result"
    }
   ],
   "source": [
    "datos['Universe'].value_counts()"
   ]
  },
  {
   "cell_type": "code",
   "execution_count": 45,
   "metadata": {},
   "outputs": [
    {
     "name": "stdout",
     "output_type": "stream",
     "text": [
      "Alignment         6145\n",
      "Character            0\n",
      "Class_value        179\n",
      "Combat             179\n",
      "Creator           4032\n",
      "Durability         179\n",
      "Gender            6340\n",
      "Intelligence       179\n",
      "Level              179\n",
      "Power              179\n",
      "Species           9380\n",
      "Speed              179\n",
      "Speed_velocity     179\n",
      "Strength           179\n",
      "Strength_force     179\n",
      "Super_powers      3142\n",
      "Tier               179\n",
      "Universe          2884\n",
      "dtype: int64\n"
     ]
    }
   ],
   "source": [
    "print(datos.isna().sum())"
   ]
  },
  {
   "cell_type": "markdown",
   "metadata": {},
   "source": [
    " "
   ]
  },
  {
   "cell_type": "code",
   "execution_count": 46,
   "metadata": {
    "scrolled": true
   },
   "outputs": [
    {
     "name": "stdout",
     "output_type": "stream",
     "text": [
      "Alignment           object\n",
      "Character         category\n",
      "Class_value        float64\n",
      "Combat             float64\n",
      "Creator             object\n",
      "Durability         float64\n",
      "Gender              object\n",
      "Intelligence       float64\n",
      "Level              float64\n",
      "Power              float64\n",
      "Species             object\n",
      "Speed              float64\n",
      "Speed_velocity     float64\n",
      "Strength           float64\n",
      "Strength_force     float64\n",
      "Super_powers      category\n",
      "Tier               float64\n",
      "Universe          category\n",
      "dtype: object\n"
     ]
    }
   ],
   "source": [
    "print(datos.dtypes)"
   ]
  },
  {
   "cell_type": "code",
   "execution_count": 47,
   "metadata": {},
   "outputs": [],
   "source": [
    "datos['Alignment'] = datos['Alignment'].astype('category')"
   ]
  },
  {
   "cell_type": "markdown",
   "metadata": {},
   "source": [
    "  "
   ]
  },
  {
   "cell_type": "code",
   "execution_count": null,
   "metadata": {},
   "outputs": [],
   "source": []
  },
  {
   "cell_type": "code",
   "execution_count": 48,
   "metadata": {},
   "outputs": [
    {
     "name": "stdout",
     "output_type": "stream",
     "text": [
      "Valores faltantes en 'Creator_encoded' antes de la imputación:\n",
      "4032\n",
      "Other            10353\n",
      "Marvel Comics     5285\n",
      "DC Comics         3942\n",
      "Shueisha          2797\n",
      "Nintendo          2292\n",
      "Name: Creator, dtype: int64\n",
      "0\n"
     ]
    }
   ],
   "source": [
    "datos['Creator'] = datos['Creator'].replace('nan', np.nan)\n",
    "\n",
    "\n",
    "label_encoder = LabelEncoder()\n",
    "non_nan_values = datos['Creator'].dropna().unique()\n",
    "label_encoder.fit(non_nan_values)\n",
    "\n",
    "datos['Creator_encoded'] = datos['Creator'].apply(lambda x: label_encoder.transform([x])[0] if pd.notna(x) else np.nan)\n",
    "\n",
    "print(\"Valores faltantes en 'Creator_encoded' antes de la imputación:\")\n",
    "print(datos['Creator_encoded'].isna().sum())\n",
    "\n",
    "\n",
    "cols_to_impute = ['Creator_encoded','Class_value', 'Combat', 'Durability', 'Intelligence', 'Level', 'Power', 'Speed', 'Speed_velocity', 'Strength', 'Strength_force']\n",
    "\n",
    "\n",
    "\n",
    "imputer = KNNImputer(n_neighbors=5)\n",
    "\n",
    "\n",
    "imputed_data = imputer.fit_transform(datos[cols_to_impute])\n",
    "\n",
    "\n",
    "datos['Creator'] = label_encoder.inverse_transform(imputed_data[:, 0].round().astype(int))\n",
    "\n",
    "print(datos['Creator'].value_counts(dropna=False))\n",
    "\n",
    "print(datos['Creator'].isna().sum())\n"
   ]
  },
  {
   "cell_type": "code",
   "execution_count": 49,
   "metadata": {},
   "outputs": [
    {
     "name": "stdout",
     "output_type": "stream",
     "text": [
      "Valores faltantes en 'Species_encoded' antes de la imputación:\n",
      "9380\n",
      "Human            14103\n",
      "Other             6585\n",
      "God / Eternal     2275\n",
      "Alien              885\n",
      "Demon              821\n",
      "Name: Species, dtype: int64\n",
      "0\n"
     ]
    }
   ],
   "source": [
    "\n",
    "\n",
    "datos['Species'] = datos['Species'].replace('nan', np.nan)\n",
    "\n",
    "\n",
    "label_encoder = LabelEncoder()\n",
    "non_nan_values = datos['Species'].dropna().unique()\n",
    "label_encoder.fit(non_nan_values)\n",
    "\n",
    "datos['Species_encoded'] = datos['Species'].apply(lambda x: label_encoder.transform([x])[0] if pd.notna(x) else np.nan)\n",
    "\n",
    "print(\"Valores faltantes en 'Species_encoded' antes de la imputación:\")\n",
    "print(datos['Species_encoded'].isna().sum())\n",
    "\n",
    "\n",
    "cols_to_impute = ['Species_encoded','Class_value', 'Combat', 'Durability', 'Intelligence', 'Level', 'Power', 'Speed', 'Speed_velocity', 'Strength', 'Strength_force']\n",
    "\n",
    "\n",
    "\n",
    "imputer = KNNImputer(n_neighbors=5)\n",
    "\n",
    "\n",
    "imputed_data = imputer.fit_transform(datos[cols_to_impute])\n",
    "\n",
    "\n",
    "datos['Species'] = label_encoder.inverse_transform(imputed_data[:, 0].round().astype(int))\n",
    "\n",
    "print(datos['Species'].value_counts(dropna=False))\n",
    "\n",
    "print(datos['Species'].isna().sum())\n"
   ]
  },
  {
   "cell_type": "code",
   "execution_count": 50,
   "metadata": {},
   "outputs": [
    {
     "name": "stdout",
     "output_type": "stream",
     "text": [
      "Valores faltantes en 'Alignment_encoded' antes de la imputación:\n",
      "6145\n",
      "Good       13862\n",
      "Bad         6626\n",
      "Neutral     4181\n",
      "Name: Alignment, dtype: int64\n",
      "0\n"
     ]
    }
   ],
   "source": [
    "datos['Alignment'] = datos['Alignment'].astype(str)\n",
    "datos['Alignment'] = datos['Alignment'].replace('nan', np.nan)\n",
    "\n",
    "\n",
    "label_encoder = LabelEncoder()\n",
    "non_nan_values = datos['Alignment'].dropna().unique()\n",
    "label_encoder.fit(non_nan_values)\n",
    "\n",
    "datos['Alignment_encoded'] = datos['Alignment'].apply(lambda x: label_encoder.transform([x])[0] if pd.notna(x) else np.nan)\n",
    "\n",
    "print(\"Valores faltantes en 'Alignment_encoded' antes de la imputación:\")\n",
    "print(datos['Alignment_encoded'].isna().sum())\n",
    "\n",
    "\n",
    "cols_to_impute = ['Alignment_encoded','Class_value', 'Combat', 'Durability', 'Intelligence', 'Level', 'Power', 'Speed', 'Speed_velocity', 'Strength', 'Strength_force']\n",
    "\n",
    "\n",
    "\n",
    "imputer = KNNImputer(n_neighbors=5)\n",
    "\n",
    "\n",
    "imputed_data = imputer.fit_transform(datos[cols_to_impute])\n",
    "\n",
    "\n",
    "datos['Alignment'] = label_encoder.inverse_transform(imputed_data[:, 0].round().astype(int))\n",
    "\n",
    "print(datos['Alignment'].value_counts(dropna=False))\n",
    "\n",
    "print(datos['Alignment'].isna().sum())\n"
   ]
  },
  {
   "cell_type": "code",
   "execution_count": 51,
   "metadata": {},
   "outputs": [
    {
     "name": "stdout",
     "output_type": "stream",
     "text": [
      "Valores faltantes en 'Universe_encoded' antes de la imputación:\n",
      "2884\n",
      "Earth-616            2348\n",
      "Prime Earth          1482\n",
      "DB                    569\n",
      "MCU                   537\n",
      "League Of Legends     381\n",
      "                     ... \n",
      "Universe                1\n",
      "WtP                     1\n",
      "Treasure Island         1\n",
      "Anarchy Reigns          1\n",
      "The Gift                1\n",
      "Name: Universe, Length: 898, dtype: int64\n",
      "0\n"
     ]
    }
   ],
   "source": [
    "\n",
    "datos['Universe'] = datos['Universe'].astype(str)\n",
    "\n",
    "datos['Universe'] = datos['Universe'].replace('nan', np.nan)\n",
    "\n",
    "\n",
    "label_encoder = LabelEncoder()\n",
    "non_nan_values = datos['Universe'].dropna().unique()\n",
    "label_encoder.fit(non_nan_values)\n",
    "\n",
    "datos['Universe_encoded'] = datos['Universe'].apply(lambda x: label_encoder.transform([x])[0] if pd.notna(x) else np.nan)\n",
    "\n",
    "print(\"Valores faltantes en 'Universe_encoded' antes de la imputación:\")\n",
    "print(datos['Universe_encoded'].isna().sum())\n",
    "\n",
    "\n",
    "cols_to_impute = ['Universe_encoded','Class_value', 'Combat', 'Durability', 'Intelligence', 'Level', 'Power', 'Speed', 'Speed_velocity', 'Strength', 'Strength_force']\n",
    "\n",
    "\n",
    "\n",
    "imputer = KNNImputer(n_neighbors=5)\n",
    "\n",
    "\n",
    "imputed_data = imputer.fit_transform(datos[cols_to_impute])\n",
    "\n",
    "\n",
    "datos['Universe'] = label_encoder.inverse_transform(imputed_data[:, 0].round().astype(int))\n",
    "\n",
    "print(datos['Universe'].value_counts(dropna=False))\n",
    "\n",
    "print(datos['Universe'].isna().sum())"
   ]
  },
  {
   "cell_type": "code",
   "execution_count": 52,
   "metadata": {},
   "outputs": [],
   "source": [
    "datos = datos.drop(columns=['Creator_encoded','Species_encoded','Alignment_encoded','Universe_encoded'])\n"
   ]
  },
  {
   "cell_type": "code",
   "execution_count": 53,
   "metadata": {},
   "outputs": [
    {
     "name": "stdout",
     "output_type": "stream",
     "text": [
      "24669\n",
      "18\n"
     ]
    }
   ],
   "source": [
    "print(datos.shape[0])\n",
    "print(datos.shape[1])"
   ]
  },
  {
   "cell_type": "code",
   "execution_count": null,
   "metadata": {},
   "outputs": [],
   "source": []
  },
  {
   "cell_type": "markdown",
   "metadata": {},
   "source": [
    "### GRÀFICS ANÀLISI DESCRIPTIVA INCLOSOS A L'INFORME"
   ]
  },
  {
   "cell_type": "code",
   "execution_count": 54,
   "metadata": {},
   "outputs": [
    {
     "data": {
      "image/png": "[encoded data removed]",
      "text/plain": [
       "<Figure size 720x432 with 1 Axes>"
      ]
     },
     "metadata": {
      "needs_background": "light"
     },
     "output_type": "display_data"
    }
   ],
   "source": [
    "categorical_data = datos['Tier'].dropna() \n",
    "categoriasordenadas = sorted(categorical_data.unique())\n",
    "\n",
    "categorical_data = categorical_data.astype('category')\n",
    "categorical_data = categorical_data.cat.set_categories(categoriasordenadas, ordered=True)\n",
    "\n",
    "plt.figure(figsize=(10, 6))\n",
    "hist_data = sns.histplot(categorical_data, kde=False, color='blue', edgecolor='black', discrete=True)\n",
    "\n",
    "bin_centers = [patch.get_x() + patch.get_width() / 2 for patch in hist_data.patches]\n",
    "bin_heights = [patch.get_height() for patch in hist_data.patches]\n",
    "\n",
    "plt.scatter(bin_centers, bin_heights, color='red', zorder=5)  \n",
    "plt.plot(bin_centers, bin_heights, color='red', linestyle='-', linewidth=1)  \n",
    "\n",
    "plt.xlabel('Tier')\n",
    "plt.ylabel('Frecuència')\n",
    "plt.xticks(ticks=bin_centers, labels=categoriasordenadas, ha='right')\n",
    "plt.tight_layout()\n",
    "plt.show()\n"
   ]
  },
  {
   "cell_type": "code",
   "execution_count": 55,
   "metadata": {},
   "outputs": [
    {
     "data": {
      "image/png": "[encoded data removed]",
      "text/plain": [
       "<Figure size 576x360 with 1 Axes>"
      ]
     },
     "metadata": {
      "needs_background": "light"
     },
     "output_type": "display_data"
    }
   ],
   "source": [
    "colors = {'Male': 'blue', 'Female': 'orange', 'None': 'red'}\n",
    "\n",
    "plt.figure(figsize=(8, 5))\n",
    "ax = sns.countplot(x='Gender', data=datos, palette=colors)\n",
    "\n",
    "\n",
    "for p in ax.patches:\n",
    "    ax.annotate(f'{p.get_height()}', (p.get_x() + p.get_width() / 2., p.get_height()), ha='center', va='center', fontsize=10, color='green', xytext=(0, 5), textcoords='offset points')\n",
    "\n",
    "plt.xlabel('Gender')\n",
    "plt.ylabel('Freqüència')\n",
    "\n",
    "\n",
    "\n",
    "plt.show()\n"
   ]
  },
  {
   "cell_type": "code",
   "execution_count": 56,
   "metadata": {},
   "outputs": [
    {
     "name": "stdout",
     "output_type": "stream",
     "text": [
      "Top 10 Superpoders més comuns:\n",
      "Agility                  11775\n",
      "Reflexes                 10912\n",
      "Endurance                10832\n",
      "Stamina                  10353\n",
      "Accelerated Healing       8982\n",
      "Durability                8774\n",
      "Cold Resistance           8741\n",
      "Heat Resistance           8660\n",
      "Master Martial Artist     8635\n",
      "Weapons Master            8633\n",
      "dtype: int64\n"
     ]
    },
    {
     "data": {
      "image/png": "[encoded data removed]",
      "text/plain": [
       "<Figure size 720x432 with 1 Axes>"
      ]
     },
     "metadata": {
      "needs_background": "light"
     },
     "output_type": "display_data"
    }
   ],
   "source": [
    "\n",
    "superpowers_dummy = datos['Super_powers'].str.get_dummies(sep=',')\n",
    "superpowers_counts = superpowers_dummy.sum()\n",
    "top_10_superpowers = superpowers_counts.sort_values(ascending=False).head(10)\n",
    "\n",
    "print(\"Top 10 Superpoders més comuns:\")\n",
    "print(top_10_superpowers)\n",
    "\n",
    "plt.figure(figsize=(10, 6))\n",
    "bars = plt.barh(top_10_superpowers.index[::-1], top_10_superpowers.values[::-1], color='red')\n",
    "\n",
    "\n",
    "for bar in bars:\n",
    "    plt.text(bar.get_width(), bar.get_y() + bar.get_height()/2, f'{int(bar.get_width())}', va='center', ha='left')\n",
    "\n",
    "\n",
    "plt.xlabel('Número de Superherois')\n",
    "plt.ylabel('Superpoder')\n",
    "plt.grid(axis='x', linestyle='--', alpha=0.7)\n",
    "plt.tight_layout()\n",
    "\n",
    "plt.show()\n"
   ]
  },
  {
   "cell_type": "code",
   "execution_count": 57,
   "metadata": {},
   "outputs": [
    {
     "name": "stdout",
     "output_type": "stream",
     "text": [
      "486\n"
     ]
    }
   ],
   "source": [
    "print(superpowers_dummy.shape[1])"
   ]
  },
  {
   "cell_type": "code",
   "execution_count": 58,
   "metadata": {},
   "outputs": [
    {
     "name": "stdout",
     "output_type": "stream",
     "text": [
      "Alignment           object\n",
      "Character         category\n",
      "Class_value        float64\n",
      "Combat             float64\n",
      "Creator             object\n",
      "Durability         float64\n",
      "Gender              object\n",
      "Intelligence       float64\n",
      "Level              float64\n",
      "Power              float64\n",
      "Species             object\n",
      "Speed              float64\n",
      "Speed_velocity     float64\n",
      "Strength           float64\n",
      "Strength_force     float64\n",
      "Super_powers      category\n",
      "Tier               float64\n",
      "Universe            object\n",
      "dtype: object\n"
     ]
    }
   ],
   "source": [
    "print(datos.dtypes)\n"
   ]
  },
  {
   "cell_type": "code",
   "execution_count": 59,
   "metadata": {},
   "outputs": [
    {
     "name": "stdout",
     "output_type": "stream",
     "text": [
      "                Class_value    Combat  Durability  Intelligence     Level  \\\n",
      "Class_value        1.000000  0.062369    0.088452      0.085059  0.100434   \n",
      "Combat             0.062369  1.000000    0.478567      0.462422  0.475194   \n",
      "Durability         0.088452  0.478567    1.000000      0.529118  0.889222   \n",
      "Intelligence       0.085059  0.462422    0.529118      1.000000  0.615636   \n",
      "Level              0.100434  0.475194    0.889222      0.615636  1.000000   \n",
      "Power              0.075750  0.419712    0.852689      0.513125  0.871569   \n",
      "Speed              0.080539  0.500007    0.858785      0.541706  0.856895   \n",
      "Speed_velocity     0.094610  0.422252    0.802667      0.559595  0.831218   \n",
      "Strength           0.075137  0.469994    0.836441      0.460393  0.798871   \n",
      "Strength_force     0.088953  0.427097    0.791192      0.502919  0.784588   \n",
      "Tier               0.139029  0.459675    0.890346      0.584264  0.924908   \n",
      "\n",
      "                   Power     Speed  Speed_velocity  Strength  Strength_force  \\\n",
      "Class_value     0.075750  0.080539        0.094610  0.075137        0.088953   \n",
      "Combat          0.419712  0.500007        0.422252  0.469994        0.427097   \n",
      "Durability      0.852689  0.858785        0.802667  0.836441        0.791192   \n",
      "Intelligence    0.513125  0.541706        0.559595  0.460393        0.502919   \n",
      "Level           0.871569  0.856895        0.831218  0.798871        0.784588   \n",
      "Power           1.000000  0.796706        0.710790  0.764239        0.687930   \n",
      "Speed           0.796706  1.000000        0.898894  0.816093        0.779081   \n",
      "Speed_velocity  0.710790  0.898894        1.000000  0.713135        0.783368   \n",
      "Strength        0.764239  0.816093        0.713135  1.000000        0.878163   \n",
      "Strength_force  0.687930  0.779081        0.783368  0.878163        1.000000   \n",
      "Tier            0.832264  0.836667        0.812120  0.793956        0.776735   \n",
      "\n",
      "                    Tier  \n",
      "Class_value     0.139029  \n",
      "Combat          0.459675  \n",
      "Durability      0.890346  \n",
      "Intelligence    0.584264  \n",
      "Level           0.924908  \n",
      "Power           0.832264  \n",
      "Speed           0.836667  \n",
      "Speed_velocity  0.812120  \n",
      "Strength        0.793956  \n",
      "Strength_force  0.776735  \n",
      "Tier            1.000000  \n"
     ]
    }
   ],
   "source": [
    "\n",
    "datos_numericos = datos.select_dtypes(include=['float64'])\n",
    "\n",
    "print(datos_numericos.corr())\n",
    "\n"
   ]
  },
  {
   "cell_type": "code",
   "execution_count": 60,
   "metadata": {},
   "outputs": [
    {
     "name": "stdout",
     "output_type": "stream",
     "text": [
      "Alignment            0\n",
      "Character            0\n",
      "Class_value        179\n",
      "Combat             179\n",
      "Creator              0\n",
      "Durability         179\n",
      "Gender            6340\n",
      "Intelligence       179\n",
      "Level              179\n",
      "Power              179\n",
      "Species              0\n",
      "Speed              179\n",
      "Speed_velocity     179\n",
      "Strength           179\n",
      "Strength_force     179\n",
      "Super_powers      3142\n",
      "Tier               179\n",
      "Universe             0\n",
      "dtype: int64\n"
     ]
    }
   ],
   "source": [
    "print(datos.isna().sum())"
   ]
  },
  {
   "cell_type": "code",
   "execution_count": 61,
   "metadata": {},
   "outputs": [
    {
     "name": "stdout",
     "output_type": "stream",
     "text": [
      "Alignment            0\n",
      "Character            0\n",
      "Class_value          1\n",
      "Combat               1\n",
      "Creator              0\n",
      "Durability           1\n",
      "Gender               0\n",
      "Intelligence         1\n",
      "Level                1\n",
      "Power                1\n",
      "Species              0\n",
      "Speed                1\n",
      "Speed_velocity       1\n",
      "Strength             1\n",
      "Strength_force       1\n",
      "Super_powers      1345\n",
      "Tier                 1\n",
      "Universe             0\n",
      "dtype: int64\n"
     ]
    }
   ],
   "source": [
    "datos = datos.dropna(subset=['Gender'])\n",
    "print(datos.isna().sum())\n",
    "\n"
   ]
  },
  {
   "cell_type": "code",
   "execution_count": 62,
   "metadata": {},
   "outputs": [
    {
     "name": "stdout",
     "output_type": "stream",
     "text": [
      "Alignment         0\n",
      "Character         0\n",
      "Class_value       1\n",
      "Combat            1\n",
      "Creator           0\n",
      "Durability        1\n",
      "Gender            0\n",
      "Intelligence      1\n",
      "Level             1\n",
      "Power             1\n",
      "Species           0\n",
      "Speed             1\n",
      "Speed_velocity    1\n",
      "Strength          1\n",
      "Strength_force    1\n",
      "Super_powers      0\n",
      "Tier              1\n",
      "Universe          0\n",
      "dtype: int64\n"
     ]
    }
   ],
   "source": [
    "\n",
    "datos = datos.dropna(subset=['Super_powers'])\n",
    "print(datos.isna().sum())"
   ]
  },
  {
   "cell_type": "code",
   "execution_count": 63,
   "metadata": {},
   "outputs": [
    {
     "name": "stdout",
     "output_type": "stream",
     "text": [
      "Alignment         0\n",
      "Character         0\n",
      "Class_value       0\n",
      "Combat            0\n",
      "Creator           0\n",
      "Durability        0\n",
      "Gender            0\n",
      "Intelligence      0\n",
      "Level             0\n",
      "Power             0\n",
      "Species           0\n",
      "Speed             0\n",
      "Speed_velocity    0\n",
      "Strength          0\n",
      "Strength_force    0\n",
      "Super_powers      0\n",
      "Tier              0\n",
      "Universe          0\n",
      "dtype: int64\n"
     ]
    }
   ],
   "source": [
    "datos = datos.dropna(subset=['Tier'])\n",
    "print(datos.isna().sum())"
   ]
  },
  {
   "cell_type": "code",
   "execution_count": null,
   "metadata": {},
   "outputs": [],
   "source": []
  },
  {
   "cell_type": "code",
   "execution_count": 64,
   "metadata": {},
   "outputs": [
    {
     "name": "stdout",
     "output_type": "stream",
     "text": [
      "16983\n",
      "18\n"
     ]
    }
   ],
   "source": [
    "print(datos.shape[0])\n",
    "print(datos.shape[1])"
   ]
  },
  {
   "cell_type": "markdown",
   "metadata": {},
   "source": [
    "# ANÀLISI ESTADÍSTICA"
   ]
  },
  {
   "cell_type": "markdown",
   "metadata": {},
   "source": [
    "#### La influència dels poders al gènere"
   ]
  },
  {
   "cell_type": "code",
   "execution_count": 65,
   "metadata": {},
   "outputs": [
    {
     "name": "stdout",
     "output_type": "stream",
     "text": [
      "              precision    recall  f1-score   support\n",
      "\n",
      "           0       0.67      0.77      0.72      2265\n",
      "           1       0.73      0.63      0.68      2282\n",
      "\n",
      "    accuracy                           0.70      4547\n",
      "   macro avg       0.70      0.70      0.70      4547\n",
      "weighted avg       0.70      0.70      0.70      4547\n",
      "\n",
      "1    11367\n",
      "0     4215\n",
      "Name: Gender, dtype: int64\n",
      "1    11367\n",
      "0    11367\n",
      "Name: Gender, dtype: int64\n",
      "0.2305226917845315\n",
      "                   Feature  Coefficient  AbsCoefficient\n",
      "8               Acrobatics    -0.323173        0.323173\n",
      "174      Hair Manipulation    -0.278466        0.278466\n",
      "262              New Power     0.249883        0.249883\n",
      "378        Soul Resistance    -0.249086        0.249086\n",
      "445              Uni-Power     0.233210        0.233210\n",
      "274           Omega Effect     0.225865        0.225865\n",
      "265       Nigh-Omniscience     0.219295        0.219295\n",
      "351  Regeneration Negation    -0.215014        0.215014\n",
      "245   Molecular Combustion    -0.198296        0.198296\n",
      "155      Fear Manipulation     0.197174        0.197174\n"
     ]
    }
   ],
   "source": [
    "#filtrem Male i Female\n",
    "datosfiltrados = datos[datos['Gender'].isin(['Male', 'Female'])]\n",
    "\n",
    "superpowers_dummies = datosfiltrados['Super_powers'].str.get_dummies(sep=',')\n",
    "\n",
    "#ajuntem\n",
    "modelogenero = pd.concat([datosfiltrados[['Gender']], superpowers_dummies], axis=1)\n",
    "\n",
    "#codifiquem\n",
    "modelogenero['Gender'] = modelogenero['Gender'].map({'Male': 1, 'Female': 0})\n",
    "\n",
    "\n",
    "X = modelogenero.drop('Gender', axis=1)\n",
    "y = modelogenero['Gender']\n",
    "\n",
    "#Sobremostreig\n",
    "smote = SMOTE(random_state=5998)\n",
    "X_resampled, y_resampled = smote.fit_resample(X, y)\n",
    "\n",
    "\n",
    "X_train, X_test, y_train, y_test = train_test_split(X_resampled, y_resampled, test_size=0.2, random_state=5998)\n",
    "\n",
    "\n",
    "pipeline = make_pipeline(StandardScaler(), LogisticRegression(max_iter=1000))\n",
    "pipeline.fit(X_train, y_train)\n",
    "\n",
    "y_pred = pipeline.predict(X_test)\n",
    "print(classification_report(y_test, y_pred))\n",
    "\n",
    "\n",
    "feature_names = X.columns\n",
    "coefficients = pipeline.named_steps['logisticregression'].coef_[0]\n",
    "\n",
    "importance = pd.DataFrame({\n",
    "    'Feature': feature_names,\n",
    "    'Coefficient': coefficients,\n",
    "    'AbsCoefficient': np.abs(coefficients)\n",
    "})\n",
    "\n",
    "\n",
    "\n",
    "print(y.value_counts())\n",
    "print(y_resampled.value_counts())\n",
    "\n",
    "print(pipeline.named_steps['logisticregression'].intercept_[0])\n",
    "\n",
    "\n",
    "top10superpoders = importance.sort_values(by='AbsCoefficient', ascending=False).head(10)\n",
    "print(top10superpoders)\n",
    "\n",
    "\n"
   ]
  },
  {
   "cell_type": "code",
   "execution_count": 66,
   "metadata": {},
   "outputs": [
    {
     "data": {
      "image/png": "[encoded data removed]",
      "text/plain": [
       "<Figure size 864x576 with 1 Axes>"
      ]
     },
     "metadata": {
      "needs_background": "light"
     },
     "output_type": "display_data"
    }
   ],
   "source": [
    "top10superpoders = pd.concat([\n",
    "    top10superpoders[top10superpoders['Coefficient'] < 0].sort_values(by='Coefficient'),\n",
    "    top10superpoders[top10superpoders['Coefficient'] > 0].sort_values(by='Coefficient')\n",
    "])\n",
    "\n",
    "\n",
    "plt.figure(figsize=(12, 8))\n",
    "\n",
    "\n",
    "bars = plt.barh(top10superpoders['Feature'], top10superpoders['Coefficient'], \n",
    "                color=['blue' if x > 0 else 'orange' for x in top10superpoders['Coefficient']])\n",
    "\n",
    "plt.xlabel('Coeficient')\n",
    "plt.ylabel('Superpoder')\n",
    "\n",
    "\n",
    "plt.grid(axis='x', linestyle='--', alpha=0.7)\n",
    "\n",
    "\n",
    "blue_patch = mpatches.Patch(color='blue', label='Male')\n",
    "orange_patch = mpatches.Patch(color='orange', label='Female')\n",
    "plt.legend(handles=[blue_patch, orange_patch])\n",
    "\n",
    "\n",
    "plt.show()\n"
   ]
  },
  {
   "cell_type": "code",
   "execution_count": 67,
   "metadata": {},
   "outputs": [
    {
     "name": "stdout",
     "output_type": "stream",
     "text": [
      "                                             Character\n",
      "1818                                          Beyonder\n",
      "3375                                   Jubei A.Mercury\n",
      "3376                                   Jubei A.Mercury\n",
      "4137                               Lucifer Morningstar\n",
      "4138                               Lucifer Morningstar\n",
      "6131                                         The Light\n",
      "6668        The Being Whom Embody The Essence Of Story\n",
      "6669        The Being Whom Embody The Essence Of Story\n",
      "7796                           Vision (House Of Ideas)\n",
      "8776                                         Akuto Sai\n",
      "8777                                         Akuto Sai\n",
      "13345                            Loki (God Of Stories)\n",
      "13362                                             Luis\n",
      "13896                                Michael Demiurgos\n",
      "13897                                Michael Demiurgos\n",
      "14171                             Nyx (House Of Ideas)\n",
      "16022                                            Scrat\n",
      "19419                                Breaker of Worlds\n",
      "19420                                Breaker of Worlds\n",
      "19725                                    Elaine Belloc\n",
      "19726                                    Elaine Belloc\n",
      "20327                                            Dalek\n",
      "20328                                            Dalek\n",
      "20531                                            Hajun\n",
      "20532                                            Hajun\n",
      "21701                                     Hiroshi Miwa\n",
      "21702                                     Hiroshi Miwa\n",
      "21717  Isabel Helga Anastasia Parvati Wondertainment V\n",
      "21718  Isabel Helga Anastasia Parvati Wondertainment V\n",
      "21723                                           IS NOT\n",
      "21724                                           IS NOT\n",
      "22781                                           Mokona\n",
      "22782                                           Mokona\n",
      "23155                                   Marion Wheeler\n",
      "23156                                   Marion Wheeler\n",
      "24109                                            Omega\n",
      "24110                                            Omega\n",
      "24825                                      SCP-INTEGER\n",
      "24826                                      SCP-INTEGER\n",
      "24861                                         SCP-2747\n",
      "24862                                         SCP-2747\n",
      "25749                               The Brothers Death\n",
      "25750                               The Brothers Death\n",
      "27646                                          SCP-001\n",
      "27798                                       The Doctor\n"
     ]
    }
   ],
   "source": [
    "mejores = pd.DataFrame(datos['Character'][datos['Tier']==10])\n",
    "print(mejores.head(50))"
   ]
  },
  {
   "cell_type": "code",
   "execution_count": 68,
   "metadata": {},
   "outputs": [
    {
     "name": "stdout",
     "output_type": "stream",
     "text": [
      "      Alignment   Character  Class_value  Combat        Creator  Durability  \\\n",
      "15978      Good  Spider-Man       8101.0    80.0  Marvel Comics        70.0   \n",
      "15979      Good  Spider-Man      13466.0    80.0  Marvel Comics        70.0   \n",
      "15980      Good  Spider-Man        307.0    25.0  Marvel Comics        30.0   \n",
      "15981      Good  Spider-Man        392.0    25.0  Marvel Comics        30.0   \n",
      "15982      Good  Spider-Man        355.0    80.0  Marvel Comics        30.0   \n",
      "15983      Good  Spider-Man        444.0    80.0  Marvel Comics        30.0   \n",
      "15992      Good  Spider-Man        121.0    80.0  Marvel Comics        12.0   \n",
      "15993      Good  Spider-Man        139.0    80.0  Marvel Comics        12.0   \n",
      "16000      Good  Spider-Man        243.0    80.0  Marvel Comics        30.0   \n",
      "16001      Good  Spider-Man        289.0    80.0  Marvel Comics        30.0   \n",
      "16002      Good  Spider-Man        130.0    75.0  Marvel Comics        25.0   \n",
      "16003      Good  Spider-Man        173.0    75.0  Marvel Comics        25.0   \n",
      "16004      Good  Spider-Man         55.0    20.0  Marvel Comics         8.0   \n",
      "16005      Good  Spider-Man         63.0    20.0  Marvel Comics         8.0   \n",
      "16027      Good  Spider-Man        180.0    50.0  Marvel Comics        30.0   \n",
      "16028      Good  Spider-Man        220.0    50.0  Marvel Comics        30.0   \n",
      "16037      Good  Spider-Man        170.0    65.0  Marvel Comics        25.0   \n",
      "16038      Good  Spider-Man        176.0    65.0  Marvel Comics        25.0   \n",
      "16047      Good  Spider-Man         60.0    55.0          Other        20.0   \n",
      "16048      Good  Spider-Man         61.0    55.0          Other        20.0   \n",
      "16049      Good  Spider-Man        138.0    65.0  Marvel Comics        20.0   \n",
      "16050      Good  Spider-Man        169.0    65.0  Marvel Comics        20.0   \n",
      "16059      Good  Spider-Man        118.0    70.0  Marvel Comics        25.0   \n",
      "16060      Good  Spider-Man        137.0    70.0  Marvel Comics        25.0   \n",
      "16061      Good  Spider-Man        125.0    50.0  Marvel Comics        15.0   \n",
      "16062      Good  Spider-Man        143.0    50.0  Marvel Comics        15.0   \n",
      "16063      Good  Spider-Man        188.0    75.0  Marvel Comics        20.0   \n",
      "16064      Good  Spider-Man        225.0    75.0  Marvel Comics        20.0   \n",
      "16069      Good  Spider-Man        315.0    80.0  Marvel Comics        13.0   \n",
      "16070      Good  Spider-Man        828.0    60.0  Marvel Comics        30.0   \n",
      "16071      Good  Spider-Man         93.0    35.0  Marvel Comics        20.0   \n",
      "16072      Good  Spider-Man        120.0    35.0  Marvel Comics        20.0   \n",
      "16077      Good  Spider-Man        915.0    90.0  Marvel Comics        40.0   \n",
      "16078      Good  Spider-Man       1177.0    90.0  Marvel Comics        40.0   \n",
      "16413      Good  Spider-Man        455.0    85.0  Marvel Comics        25.0   \n",
      "16414      Good  Spider-Man        540.0    85.0  Marvel Comics        25.0   \n",
      "27704      Good  Spider-Man        798.0    75.0  Marvel Comics        30.0   \n",
      "27711      Good  Spider-Man        163.0    70.0  Marvel Comics        15.0   \n",
      "\n",
      "      Gender  Intelligence  Level  Power        Species  Speed  \\\n",
      "15978   Male          90.0    3.0   85.0          Human   35.0   \n",
      "15979   Male          90.0    3.0   85.0          Human   35.0   \n",
      "15980   Male          85.0    2.0   60.0          Human   25.0   \n",
      "15981   Male          85.0    2.0   60.0          Human   25.0   \n",
      "15982   Male          90.0    2.0   60.0          Human   25.0   \n",
      "15983   Male          90.0    2.0   60.0          Human   25.0   \n",
      "15992   Male          85.0    2.0   40.0          Human    8.0   \n",
      "15993   Male          85.0    2.0   40.0          Human    8.0   \n",
      "16000   Male          90.0    2.0   45.0          Human   25.0   \n",
      "16001   Male          90.0    2.0   45.0          Human   25.0   \n",
      "16002   Male          80.0    2.0   30.0          Human   25.0   \n",
      "16003   Male          80.0    2.0   30.0          Human   25.0   \n",
      "16004   Male          60.0    1.0   50.0          Human   20.0   \n",
      "16005   Male          60.0    1.0   50.0          Human   20.0   \n",
      "16027   Male          75.0    2.0   50.0          Human   25.0   \n",
      "16028   Male          75.0    2.0   50.0          Human   25.0   \n",
      "16037   Male          60.0    2.0   40.0          Human   25.0   \n",
      "16038   Male          60.0    2.0   40.0          Human   25.0   \n",
      "16047   Male          55.0    1.0   40.0  God / Eternal   20.0   \n",
      "16048   Male          55.0    1.0   40.0  God / Eternal   20.0   \n",
      "16049   Male          70.0    2.0   40.0          Human   25.0   \n",
      "16050   Male          70.0    2.0   40.0          Human   25.0   \n",
      "16059   Male          75.0    2.0   40.0          Human   25.0   \n",
      "16060   Male          75.0    2.0   40.0          Human   25.0   \n",
      "16061   Male          80.0    2.0   25.0          Human   25.0   \n",
      "16062   Male          80.0    2.0   25.0          Human   25.0   \n",
      "16063   Male          70.0    2.0   40.0          Human   25.0   \n",
      "16064   Male          70.0    2.0   40.0          Human   25.0   \n",
      "16069   Male          55.0    2.0   55.0          Human   30.0   \n",
      "16070   Male          65.0    2.0   60.0          Human   25.0   \n",
      "16071   Male          65.0    1.0   40.0          Human   25.0   \n",
      "16072   Male          65.0    2.0   40.0          Human   25.0   \n",
      "16077   Male          90.0    2.0   65.0          Human   25.0   \n",
      "16078   Male          90.0    3.0   65.0          Human   25.0   \n",
      "16413   Male          80.0    2.0   40.0          Other   30.0   \n",
      "16414   Male          80.0    2.0   40.0          Other   30.0   \n",
      "27704   Male          80.0    2.0   55.0          Human   25.0   \n",
      "27711   Male          70.0    2.0   35.0          Human   25.0   \n",
      "\n",
      "       Speed_velocity  Strength  Strength_force  \\\n",
      "15978          3400.0      80.0     150000000.0   \n",
      "15979          3400.0      80.0     150000000.0   \n",
      "15980           313.0      50.0        400000.0   \n",
      "15981           313.0      50.0        400000.0   \n",
      "15982           313.0      50.0        400000.0   \n",
      "15983           313.0      50.0        400000.0   \n",
      "15992            14.0      25.0          2000.0   \n",
      "15993            14.0      25.0          2000.0   \n",
      "16000           100.0      30.0        100000.0   \n",
      "16001           100.0      30.0        100000.0   \n",
      "16002           100.0      30.0         50000.0   \n",
      "16003           100.0      30.0         50000.0   \n",
      "16004            40.0      30.0         50000.0   \n",
      "16005            40.0      30.0         50000.0   \n",
      "16027           313.0      25.0         23000.0   \n",
      "16028           313.0      25.0         23000.0   \n",
      "16037            60.0      25.0          5000.0   \n",
      "16038            60.0      25.0          5000.0   \n",
      "16047            40.0      25.0          2500.0   \n",
      "16048            40.0      25.0          2500.0   \n",
      "16049            50.0      25.0         10000.0   \n",
      "16050            50.0      25.0         10000.0   \n",
      "16059            55.0      25.0          3000.0   \n",
      "16060            55.0      25.0          3000.0   \n",
      "16061           100.0      25.0          4200.0   \n",
      "16062           100.0      25.0          4200.0   \n",
      "16063           120.0      25.0          1000.0   \n",
      "16064           120.0      25.0          1000.0   \n",
      "16069          1715.0      25.0         25000.0   \n",
      "16070           350.0      35.0        200000.0   \n",
      "16071            50.0      25.0         10000.0   \n",
      "16072            50.0      25.0         10000.0   \n",
      "16077           300.0      55.0       1000000.0   \n",
      "16078           300.0      55.0       1000000.0   \n",
      "16413          2540.0      50.0        400000.0   \n",
      "16414          2540.0      50.0        400000.0   \n",
      "27704           240.0      35.0        167000.0   \n",
      "27711            50.0      35.0        160000.0   \n",
      "\n",
      "                                            Super_powers  Tier      Universe  \n",
      "15978  Acrobatics,Agility,Cold Resistance,Dexterity,E...   4.0   Earth-41252  \n",
      "15979  Acrobatics,Agility,Cold Resistance,Dexterity,E...   4.0   Earth-41252  \n",
      "15980  Acrobatics,Agility,Animal Attributes,Animal Or...   1.0   Earth-29320  \n",
      "15981  Acrobatics,Agility,Animal Attributes,Animal Or...   1.0   Earth-29320  \n",
      "15982  Acrobatics,Agility,Animal Attributes,Animal Or...   1.0   Earth-29320  \n",
      "15983  Acrobatics,Agility,Animal Attributes,Animal Or...   1.0   Earth-29320  \n",
      "15992  Agility,Durability,Endurance,Enhanced Hearing,...   1.0  Earth-TRN814  \n",
      "15993  Agility,Durability,Endurance,Enhanced Hearing,...   1.0  Earth-TRN814  \n",
      "16000  Acrobatics,Agility,Dexterity,Disguise Mastery,...   1.0   Earth-70237  \n",
      "16001  Acrobatics,Agility,Dexterity,Disguise Mastery,...   1.0   Earth-70237  \n",
      "16002  Acrobatics,Agility,Danger Sense,Dexterity,Endu...   1.0   Earth-92131  \n",
      "16003  Acrobatics,Agility,Danger Sense,Dexterity,Endu...   1.0   Earth-92131  \n",
      "16004  Durability,Stamina,Super Strength,Wallcrawling...   1.0    Earth-6799  \n",
      "16005  Durability,Stamina,Super Strength,Wallcrawling...   1.0    Earth-6799  \n",
      "16027  Acrobatics,Agility,Danger Sense,Dexterity,Dura...   2.0    Earth-8107  \n",
      "16028  Acrobatics,Agility,Danger Sense,Dexterity,Dura...   2.0    Earth-8107  \n",
      "16037  Agility,Enhanced Hearing,Intelligence,Reflexes...   1.0        SM-PS4  \n",
      "16038  Agility,Enhanced Hearing,Intelligence,Reflexes...   1.0        SM-PS4  \n",
      "16047  Agility,Animal Oriented Powers,Super Speed,Sup...   1.0  Spider-Verse  \n",
      "16048  Agility,Animal Oriented Powers,Super Speed,Sup...   1.0  Spider-Verse  \n",
      "16049  Acrobatics,Agility,Animal Attributes,Danger Se...   1.0    Raimiverse  \n",
      "16050  Acrobatics,Agility,Animal Attributes,Danger Se...   1.0    Raimiverse  \n",
      "16059  Acrobatics,Agility,Berserk Mode,Dexterity,Inte...   1.0        SM-PS4  \n",
      "16060  Acrobatics,Agility,Berserk Mode,Dexterity,Inte...   1.0        SM-PS4  \n",
      "16061  Acrobatics,Agility,Animal Attributes,Animal Or...   1.0          TASM  \n",
      "16062  Acrobatics,Agility,Animal Attributes,Animal Or...   1.0          TASM  \n",
      "16063  Acrobatics,Agility,Animal Attributes,Danger Se...   1.0   Earth-90214  \n",
      "16064  Acrobatics,Agility,Animal Attributes,Danger Se...   1.0   Earth-90214  \n",
      "16069  Accelerated Healing,Acrobatics,Danger Sense,Du...   1.0    Earth-1610  \n",
      "16070  Acrobatics,Agility,Animal Attributes,Animal Or...   2.0    Earth-1610  \n",
      "16071  Acrobatics,Agility,Durability,Intelligence,Ref...   1.0           MCU  \n",
      "16072  Acrobatics,Agility,Durability,Intelligence,Ref...   1.0           MCU  \n",
      "16077  Acrobatics,Agility,Animal Attributes,Animal Or...   2.0     Earth-616  \n",
      "16078  Acrobatics,Agility,Animal Attributes,Animal Or...   2.0     Earth-616  \n",
      "16413  Acid Manipulation,Acid Resistants,Acrobatics,A...   1.0     Earth-928  \n",
      "16414  Acid Manipulation,Acid Resistants,Acrobatics,A...   1.0     Earth-928  \n",
      "27704  Acrobatics,Agility,Animal Attributes,Animal Or...   2.0           MAU  \n",
      "27711  Acrobatics,Agility,Animal Oriented Powers,Dura...   1.0          LEGO  \n"
     ]
    }
   ],
   "source": [
    "print(datos[datos['Character'] == \"Spider-Man\"])"
   ]
  },
  {
   "cell_type": "code",
   "execution_count": null,
   "metadata": {},
   "outputs": [],
   "source": []
  },
  {
   "cell_type": "markdown",
   "metadata": {},
   "source": [
    "#### Predicció del Tier dels superherois"
   ]
  },
  {
   "cell_type": "code",
   "execution_count": 69,
   "metadata": {},
   "outputs": [
    {
     "name": "stdout",
     "output_type": "stream",
     "text": [
      "1. feature Durability (0.7617300273808485)\n",
      "2. feature Power (0.09188602074090464)\n",
      "3. feature Intelligence (0.02451566740843481)\n",
      "4. feature Speed (0.016327110704079724)\n",
      "5. feature Strength (0.011585548182616963)\n",
      "6. feature Combat (0.007179809732992119)\n",
      "7. feature Super_powers_Nigh-Omnipotence (0.002172005221796467)\n",
      "8. feature Species_Alien (0.001388272099040656)\n",
      "9. feature Creator_DC Comics (0.001198103412306401)\n",
      "10. feature Creator_Other (0.0010984660703730765)\n",
      "Fitting 5 folds for each of 216 candidates, totalling 1080 fits\n",
      "Millor hiperparàmetres {'bootstrap': True, 'max_depth': None, 'min_samples_leaf': 1, 'min_samples_split': 2, 'n_estimators': 400}\n",
      "Mean Squared Error: 0.35472475713865176\n",
      "R^2 Score: 0.943973210955581\n"
     ]
    },
    {
     "data": {
      "image/png": "[encoded data removed]",
      "text/plain": [
       "<Figure size 720x504 with 1 Axes>"
      ]
     },
     "metadata": {
      "needs_background": "light"
     },
     "output_type": "display_data"
    }
   ],
   "source": [
    "\n",
    "datosregresion = datos.copy()\n",
    "columnasfuera = ['Class_value','Level','Speed_velocity','Strength_force']\n",
    "\n",
    "datosregresion = datosregresion.drop(columns=[col for col in columnasfuera if col in datosregresion.columns])\n",
    "\n",
    "categorical_columns = datosregresion.select_dtypes(include=['object', 'category']).columns.tolist()\n",
    "binary_columns = [col for col in datosregresion.columns if datosregresion[col].nunique() == 2 and col not in categorical_columns]\n",
    "\n",
    "datosregresion = pd.get_dummies(datosregresion, columns=categorical_columns)\n",
    "\n",
    "\n",
    "X = datosregresion.drop(columns=['Tier']) \n",
    "y = datosregresion['Tier']\n",
    "\n",
    "\n",
    "X_train, X_test, y_train, y_test = train_test_split(X, y, test_size=0.2, random_state=5998)\n",
    "\n",
    "\n",
    "modelobasico = RandomForestRegressor(n_estimators=100, random_state=5998)\n",
    "modelobasico.fit(X_train, y_train)\n",
    "\n",
    "\n",
    "importancies = modelobasico.feature_importances_\n",
    "indexs = np.argsort(importancies)[::-1]\n",
    "\n",
    "for i in range(10):\n",
    "    print(f\"{i + 1}. feature {X_train.columns[indexs[i]]} ({importancies[indexs[i]]})\")\n",
    "\n",
    "car = 10\n",
    "\n",
    "caracteristiques = [X_train.columns[indexs[i]] for i in range(car)]\n",
    "\n",
    "X_train_selected = X_train[caracteristiques]\n",
    "X_test_selected = X_test[caracteristiques]\n",
    "\n",
    "\n",
    "param_grid = {\n",
    "    'n_estimators': [200, 300,400],\n",
    "    'max_depth': [10, 20,30, None],\n",
    "    'min_samples_split': [2, 5, 10],\n",
    "    'min_samples_leaf': [1, 2, 4],\n",
    "    'bootstrap': [True, False]\n",
    "}\n",
    "\n",
    "\n",
    "modelnou = RandomForestRegressor(random_state=5998)\n",
    "\n",
    "\n",
    "grid_search = GridSearchCV(estimator=modelnou, param_grid=param_grid,\n",
    "                           cv=5, n_jobs=-1, verbose=2, scoring='neg_mean_squared_error')\n",
    "\n",
    "\n",
    "grid_search.fit(X_train_selected, y_train)\n",
    "\n",
    "\n",
    "millormodel = grid_search.best_estimator_\n",
    "\n",
    "y_pred = np.round(millormodel.predict(X_test_selected))\n",
    "\n",
    "mse = mean_squared_error(y_test, y_pred)\n",
    "r2 = r2_score(y_test, y_pred)\n",
    "\n",
    "print(\"Millor hiperparàmetres\", grid_search.best_params_)\n",
    "print(\"Mean Squared Error:\", mse)\n",
    "print(\"R^2 Score:\", r2)\n",
    "\n",
    "\n",
    "plt.figure(figsize=(10, 7))\n",
    "plt.scatter(y_test, y_pred, alpha=0.5)\n",
    "plt.plot([y_test.min(), y_test.max()], [y_test.min(), y_test.max()], '--r')\n",
    "plt.xlabel('Actual')\n",
    "plt.ylabel('Predicted')\n",
    "plt.title('Actual vs Predicted')\n",
    "plt.show()\n",
    "\n"
   ]
  },
  {
   "cell_type": "code",
   "execution_count": 70,
   "metadata": {},
   "outputs": [
    {
     "name": "stdout",
     "output_type": "stream",
     "text": [
      "15978    Acrobatics,Agility,Cold Resistance,Dexterity,E...\n",
      "15979    Acrobatics,Agility,Cold Resistance,Dexterity,E...\n",
      "15980    Acrobatics,Agility,Animal Attributes,Animal Or...\n",
      "15981    Acrobatics,Agility,Animal Attributes,Animal Or...\n",
      "15982    Acrobatics,Agility,Animal Attributes,Animal Or...\n",
      "15983    Acrobatics,Agility,Animal Attributes,Animal Or...\n",
      "15992    Agility,Durability,Endurance,Enhanced Hearing,...\n",
      "15993    Agility,Durability,Endurance,Enhanced Hearing,...\n",
      "16000    Acrobatics,Agility,Dexterity,Disguise Mastery,...\n",
      "16001    Acrobatics,Agility,Dexterity,Disguise Mastery,...\n",
      "16002    Acrobatics,Agility,Danger Sense,Dexterity,Endu...\n",
      "16003    Acrobatics,Agility,Danger Sense,Dexterity,Endu...\n",
      "16004    Durability,Stamina,Super Strength,Wallcrawling...\n",
      "16005    Durability,Stamina,Super Strength,Wallcrawling...\n",
      "16027    Acrobatics,Agility,Danger Sense,Dexterity,Dura...\n",
      "16028    Acrobatics,Agility,Danger Sense,Dexterity,Dura...\n",
      "16037    Agility,Enhanced Hearing,Intelligence,Reflexes...\n",
      "16038    Agility,Enhanced Hearing,Intelligence,Reflexes...\n",
      "16047    Agility,Animal Oriented Powers,Super Speed,Sup...\n",
      "16048    Agility,Animal Oriented Powers,Super Speed,Sup...\n",
      "16049    Acrobatics,Agility,Animal Attributes,Danger Se...\n",
      "16050    Acrobatics,Agility,Animal Attributes,Danger Se...\n",
      "16059    Acrobatics,Agility,Berserk Mode,Dexterity,Inte...\n",
      "16060    Acrobatics,Agility,Berserk Mode,Dexterity,Inte...\n",
      "16061    Acrobatics,Agility,Animal Attributes,Animal Or...\n",
      "16062    Acrobatics,Agility,Animal Attributes,Animal Or...\n",
      "16063    Acrobatics,Agility,Animal Attributes,Danger Se...\n",
      "16064    Acrobatics,Agility,Animal Attributes,Danger Se...\n",
      "16069    Accelerated Healing,Acrobatics,Danger Sense,Du...\n",
      "16070    Acrobatics,Agility,Animal Attributes,Animal Or...\n",
      "16071    Acrobatics,Agility,Durability,Intelligence,Ref...\n",
      "16072    Acrobatics,Agility,Durability,Intelligence,Ref...\n",
      "16077    Acrobatics,Agility,Animal Attributes,Animal Or...\n",
      "16078    Acrobatics,Agility,Animal Attributes,Animal Or...\n",
      "16413    Acid Manipulation,Acid Resistants,Acrobatics,A...\n",
      "16414    Acid Manipulation,Acid Resistants,Acrobatics,A...\n",
      "27704    Acrobatics,Agility,Animal Attributes,Animal Or...\n",
      "27711    Acrobatics,Agility,Animal Oriented Powers,Dura...\n",
      "Name: Super_powers, dtype: category\n",
      "Categories (11698, object): ['Ability Shift,Abstract Existence,Acausality,A..., 'Ability Shift,Abstract Existence,Acausality,A..., 'Ability Shift,Abstract Existence,Acausality,A..., 'Ability Shift,Abstract Existence,Acausality,A..., ..., 'Zombie Physiology,Flight,Size Changing', 'Zombie Physiology,Jump,Stamina,Fire Resistance', 'Zombie Physiology,Magic,Portal Creation', 'Zombie Physiology,Natural Weapons,Weapons Mas...]\n"
     ]
    }
   ],
   "source": [
    "print(datos['Super_powers'][datos['Character'] == 'Spider-Man'])"
   ]
  },
  {
   "cell_type": "code",
   "execution_count": null,
   "metadata": {},
   "outputs": [],
   "source": []
  },
  {
   "cell_type": "code",
   "execution_count": null,
   "metadata": {},
   "outputs": [],
   "source": []
  },
  {
   "cell_type": "code",
   "execution_count": 71,
   "metadata": {},
   "outputs": [
    {
     "name": "stdout",
     "output_type": "stream",
     "text": [
      "1. feature Power (0.07419956554998226)\n",
      "2. feature Durability (0.07362345167905762)\n",
      "3. feature Speed (0.05400150274311733)\n",
      "4. feature Strength (0.05129421482735486)\n",
      "5. feature Intelligence (0.035538989493704945)\n",
      "6. feature Combat (0.03301296166474986)\n",
      "7. feature Species_Human (0.010771554810126278)\n",
      "8. feature Species_Other (0.0081342495908162)\n",
      "9. feature Alignment_Good (0.006658499965073033)\n",
      "10. feature Alignment_Bad (0.00615149296689803)\n",
      "Fitting 5 folds for each of 288 candidates, totalling 1440 fits\n",
      "Millor hiperparàmetres: {'bootstrap': True, 'max_depth': None, 'min_samples_leaf': 1, 'min_samples_split': 2, 'n_estimators': 400}\n",
      "Precisió: 0.8513394171327642\n",
      "              precision    recall  f1-score   support\n",
      "\n",
      "         0.0       0.90      0.93      0.91       120\n",
      "         1.0       0.95      0.96      0.96      1038\n",
      "         2.0       0.90      0.91      0.90       538\n",
      "         3.0       0.86      0.87      0.87       365\n",
      "         4.0       0.88      0.84      0.86       297\n",
      "         5.0       0.89      0.89      0.89       216\n",
      "         6.0       0.82      0.75      0.78       286\n",
      "         7.0       0.74      0.62      0.67       245\n",
      "         8.0       0.56      0.58      0.57       192\n",
      "         9.0       0.40      0.63      0.49        94\n",
      "        10.0       0.00      0.00      0.00         6\n",
      "\n",
      "    accuracy                           0.85      3397\n",
      "   macro avg       0.72      0.73      0.72      3397\n",
      "weighted avg       0.86      0.85      0.85      3397\n",
      "\n"
     ]
    },
    {
     "name": "stderr",
     "output_type": "stream",
     "text": [
      "C:\\Users\\manonio\\anaconda3\\lib\\site-packages\\sklearn\\metrics\\_classification.py:1471: UndefinedMetricWarning: Precision and F-score are ill-defined and being set to 0.0 in labels with no predicted samples. Use `zero_division` parameter to control this behavior.\n",
      "  _warn_prf(average, modifier, msg_start, len(result))\n",
      "C:\\Users\\manonio\\anaconda3\\lib\\site-packages\\sklearn\\metrics\\_classification.py:1471: UndefinedMetricWarning: Precision and F-score are ill-defined and being set to 0.0 in labels with no predicted samples. Use `zero_division` parameter to control this behavior.\n",
      "  _warn_prf(average, modifier, msg_start, len(result))\n",
      "C:\\Users\\manonio\\anaconda3\\lib\\site-packages\\sklearn\\metrics\\_classification.py:1471: UndefinedMetricWarning: Precision and F-score are ill-defined and being set to 0.0 in labels with no predicted samples. Use `zero_division` parameter to control this behavior.\n",
      "  _warn_prf(average, modifier, msg_start, len(result))\n"
     ]
    },
    {
     "data": {
      "image/png": "[encoded data removed]",
      "text/plain": [
       "<Figure size 576x432 with 2 Axes>"
      ]
     },
     "metadata": {
      "needs_background": "light"
     },
     "output_type": "display_data"
    }
   ],
   "source": [
    "datosclas = datos.copy()\n",
    "columnasfuera = ['Class_value','Level','Speed_velocity','Strength_force']\n",
    "\n",
    "datosclas = datosclas.drop(columns=[col for col in columnasfuera if col in datosclas.columns])\n",
    "\n",
    "\n",
    "categorical_columns = datosclas.select_dtypes(include=['object', 'category']).columns.tolist()\n",
    "binary_columns = [col for col in datosclas.columns if datosclas[col].nunique() == 2 and col not in categorical_columns]\n",
    "\n",
    "datosclas = pd.get_dummies(datosclas, columns=categorical_columns)\n",
    "\n",
    "\n",
    "datosclas['Tier'] = datosclas['Tier'].astype('category')\n",
    "\n",
    "\n",
    "X_train, X_test, y_train, y_test = train_test_split(datosclas.drop(columns=['Tier']), datosclas['Tier'], test_size=0.2, random_state=5998)\n",
    "\n",
    "\n",
    "modelinicialclas = RandomForestClassifier(n_estimators=100, random_state=5998)\n",
    "modelinicialclas.fit(X_train, y_train)\n",
    "\n",
    "importancies = modelinicialclas.feature_importances_\n",
    "indexs_clas = np.argsort(importancies)[::-1]\n",
    "\n",
    "\n",
    "for i in range(10):\n",
    "    print(f\"{i + 1}. feature {X_train.columns[indexs_clas[i]]} ({importancies[indexs_clas[i]]})\")\n",
    "\n",
    "num_caracteristicas_seleccionadas = 10\n",
    "\n",
    "caracteristicas_seleccionadas = [X_train.columns[indexs_clas[i]] for i in range(num_caracteristicas_seleccionadas)]\n",
    "\n",
    "X_train_seleccionadas = X_train[caracteristicas_seleccionadas]\n",
    "X_test_seleccionadas = X_test[caracteristicas_seleccionadas]\n",
    "\n",
    "parametros_grid = {\n",
    "    'n_estimators': [100, 200, 300, 400],\n",
    "    'max_depth': [10, 20, 30, None],\n",
    "    'min_samples_split': [2, 5, 10],\n",
    "    'min_samples_leaf': [1, 2, 4],\n",
    "    'bootstrap': [True, False]\n",
    "}\n",
    "\n",
    "\n",
    "model_rf_clas = RandomForestClassifier(random_state=5998)\n",
    "\n",
    "\n",
    "grid_clas = GridSearchCV(estimator=model_rf_clas, param_grid=parametros_grid,\n",
    "                           cv=5, n_jobs=-1, verbose=2, scoring='accuracy')\n",
    "\n",
    "grid_clas.fit(X_train_seleccionadas, y_train)\n",
    "\n",
    "\n",
    "millormodclas = grid_clas.best_estimator_\n",
    "\n",
    "\n",
    "y_pred_clas = millormodclas.predict(X_test_seleccionadas)\n",
    "\n",
    "\n",
    "precision_clas = accuracy_score(y_test, y_pred_clas)\n",
    "print(\"Millor hiperparàmetres:\", grid_clas.best_params_)\n",
    "print(\"Precisió:\", precision_clas)\n",
    "\n",
    "\n",
    "\n",
    "print(classification_report(y_test, y_pred_clas))\n",
    "\n",
    "plt.figure(figsize=(8, 6))\n",
    "sns.heatmap(confusion_matrix(y_test, y_pred_clas), annot=True, fmt=\"d\", cmap=\"Reds\")\n",
    "plt.xlabel('Predicció')\n",
    "plt.ylabel('Real')\n",
    "plt.title('Matriu de Confusió')\n",
    "plt.show()\n"
   ]
  }
 ],
 "metadata": {
  "kernelspec": {
   "display_name": "Python 3",
   "language": "python",
   "name": "python3"
  },
  "language_info": {
   "codemirror_mode": {
    "name": "ipython",
    "version": 3
   },
   "file_extension": ".py",
   "mimetype": "text/x-python",
   "name": "python",
   "nbconvert_exporter": "python",
   "pygments_lexer": "ipython3",
   "version": "3.8.5"
  }
 },
 "nbformat": 4,
 "nbformat_minor": 4
}
